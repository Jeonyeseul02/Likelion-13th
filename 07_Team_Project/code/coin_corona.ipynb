{
 "cells": [
  {
   "cell_type": "code",
   "execution_count": 2,
   "id": "7876ae14",
   "metadata": {},
   "outputs": [],
   "source": [
    "import pandas as pd"
   ]
  },
  {
   "cell_type": "code",
   "execution_count": 3,
   "id": "434ab18e",
   "metadata": {},
   "outputs": [],
   "source": [
    "corona = pd.read_csv('corona.csv')\n",
    "bit = pd.read_csv('bit.csv')"
   ]
  },
  {
   "cell_type": "code",
   "execution_count": 6,
   "id": "63de42a1",
   "metadata": {},
   "outputs": [
    {
     "data": {
      "text/plain": [
       "((590, 3), (590, 2))"
      ]
     },
     "execution_count": 6,
     "metadata": {},
     "output_type": "execute_result"
    }
   ],
   "source": [
    "corona.shape, bit.shape"
   ]
  },
  {
   "cell_type": "code",
   "execution_count": 8,
   "id": "c9d0937b",
   "metadata": {},
   "outputs": [
    {
     "name": "stdout",
     "output_type": "stream",
     "text": [
      "<class 'pandas.core.frame.DataFrame'>\n",
      "RangeIndex: 590 entries, 0 to 589\n",
      "Data columns (total 3 columns):\n",
      " #   Column      Non-Null Count  Dtype \n",
      "---  ------      --------------  ----- \n",
      " 0   Unnamed: 0  590 non-null    int64 \n",
      " 1   일자          590 non-null    object\n",
      " 2   계(명)        590 non-null    int64 \n",
      "dtypes: int64(2), object(1)\n",
      "memory usage: 14.0+ KB\n",
      "<class 'pandas.core.frame.DataFrame'>\n",
      "RangeIndex: 590 entries, 0 to 589\n",
      "Data columns (total 2 columns):\n",
      " #   Column  Non-Null Count  Dtype  \n",
      "---  ------  --------------  -----  \n",
      " 0   time    590 non-null    object \n",
      " 1   close   590 non-null    float64\n",
      "dtypes: float64(1), object(1)\n",
      "memory usage: 9.3+ KB\n"
     ]
    },
    {
     "data": {
      "text/plain": [
       "(   Unnamed: 0          일자  계(명)\n",
       " 0           0  2020-01-20     1\n",
       " 1           1  2020-01-21     0\n",
       " 2           2  2020-01-22     0\n",
       " 3           3  2020-01-23     0\n",
       " 4           4  2020-01-24     1,\n",
       "          time      close\n",
       " 0  2020-01-20  9884000.0\n",
       " 1  2020-01-21  9878000.0\n",
       " 2  2020-01-22  9887000.0\n",
       " 3  2020-01-23  9661000.0\n",
       " 4  2020-01-24  9830000.0)"
      ]
     },
     "execution_count": 8,
     "metadata": {},
     "output_type": "execute_result"
    }
   ],
   "source": [
    "corona.info(), bit.info()\n",
    "corona.head(), bit.head()"
   ]
  },
  {
   "cell_type": "code",
   "execution_count": 26,
   "id": "fd46f487",
   "metadata": {},
   "outputs": [
    {
     "data": {
      "text/html": [
       "<div>\n",
       "<style scoped>\n",
       "    .dataframe tbody tr th:only-of-type {\n",
       "        vertical-align: middle;\n",
       "    }\n",
       "\n",
       "    .dataframe tbody tr th {\n",
       "        vertical-align: top;\n",
       "    }\n",
       "\n",
       "    .dataframe thead th {\n",
       "        text-align: right;\n",
       "    }\n",
       "</style>\n",
       "<table border=\"1\" class=\"dataframe\">\n",
       "  <thead>\n",
       "    <tr style=\"text-align: right;\">\n",
       "      <th></th>\n",
       "      <th>time</th>\n",
       "      <th>close</th>\n",
       "      <th>Unnamed: 0</th>\n",
       "      <th>일자</th>\n",
       "      <th>계(명)</th>\n",
       "    </tr>\n",
       "  </thead>\n",
       "  <tbody>\n",
       "    <tr>\n",
       "      <th>0</th>\n",
       "      <td>2020-01-20</td>\n",
       "      <td>9884000.0</td>\n",
       "      <td>0</td>\n",
       "      <td>2020-01-20</td>\n",
       "      <td>1</td>\n",
       "    </tr>\n",
       "    <tr>\n",
       "      <th>1</th>\n",
       "      <td>2020-01-21</td>\n",
       "      <td>9878000.0</td>\n",
       "      <td>1</td>\n",
       "      <td>2020-01-21</td>\n",
       "      <td>0</td>\n",
       "    </tr>\n",
       "    <tr>\n",
       "      <th>2</th>\n",
       "      <td>2020-01-22</td>\n",
       "      <td>9887000.0</td>\n",
       "      <td>2</td>\n",
       "      <td>2020-01-22</td>\n",
       "      <td>0</td>\n",
       "    </tr>\n",
       "    <tr>\n",
       "      <th>3</th>\n",
       "      <td>2020-01-23</td>\n",
       "      <td>9661000.0</td>\n",
       "      <td>3</td>\n",
       "      <td>2020-01-23</td>\n",
       "      <td>0</td>\n",
       "    </tr>\n",
       "    <tr>\n",
       "      <th>4</th>\n",
       "      <td>2020-01-24</td>\n",
       "      <td>9830000.0</td>\n",
       "      <td>4</td>\n",
       "      <td>2020-01-24</td>\n",
       "      <td>1</td>\n",
       "    </tr>\n",
       "  </tbody>\n",
       "</table>\n",
       "</div>"
      ],
      "text/plain": [
       "         time      close  Unnamed: 0          일자  계(명)\n",
       "0  2020-01-20  9884000.0           0  2020-01-20     1\n",
       "1  2020-01-21  9878000.0           1  2020-01-21     0\n",
       "2  2020-01-22  9887000.0           2  2020-01-22     0\n",
       "3  2020-01-23  9661000.0           3  2020-01-23     0\n",
       "4  2020-01-24  9830000.0           4  2020-01-24     1"
      ]
     },
     "execution_count": 26,
     "metadata": {},
     "output_type": "execute_result"
    }
   ],
   "source": [
    "dat_all = bit.merge(corona, left_on='time', right_on='일자')\n",
    "dat_all.head()"
   ]
  },
  {
   "cell_type": "code",
   "execution_count": 28,
   "id": "affb7611",
   "metadata": {},
   "outputs": [],
   "source": [
    "dat_all['인원'] = dat_all['계(명)']"
   ]
  },
  {
   "cell_type": "code",
   "execution_count": 29,
   "id": "110fe16c",
   "metadata": {},
   "outputs": [],
   "source": [
    "dat_all = dat_all[['time','close','인원']]"
   ]
  },
  {
   "cell_type": "code",
   "execution_count": 30,
   "id": "4b037b10",
   "metadata": {},
   "outputs": [
    {
     "data": {
      "text/html": [
       "<div>\n",
       "<style scoped>\n",
       "    .dataframe tbody tr th:only-of-type {\n",
       "        vertical-align: middle;\n",
       "    }\n",
       "\n",
       "    .dataframe tbody tr th {\n",
       "        vertical-align: top;\n",
       "    }\n",
       "\n",
       "    .dataframe thead th {\n",
       "        text-align: right;\n",
       "    }\n",
       "</style>\n",
       "<table border=\"1\" class=\"dataframe\">\n",
       "  <thead>\n",
       "    <tr style=\"text-align: right;\">\n",
       "      <th></th>\n",
       "      <th>time</th>\n",
       "      <th>close</th>\n",
       "      <th>인원</th>\n",
       "    </tr>\n",
       "  </thead>\n",
       "  <tbody>\n",
       "    <tr>\n",
       "      <th>0</th>\n",
       "      <td>2020-01-20</td>\n",
       "      <td>9884000.0</td>\n",
       "      <td>1</td>\n",
       "    </tr>\n",
       "    <tr>\n",
       "      <th>1</th>\n",
       "      <td>2020-01-21</td>\n",
       "      <td>9878000.0</td>\n",
       "      <td>0</td>\n",
       "    </tr>\n",
       "    <tr>\n",
       "      <th>2</th>\n",
       "      <td>2020-01-22</td>\n",
       "      <td>9887000.0</td>\n",
       "      <td>0</td>\n",
       "    </tr>\n",
       "    <tr>\n",
       "      <th>3</th>\n",
       "      <td>2020-01-23</td>\n",
       "      <td>9661000.0</td>\n",
       "      <td>0</td>\n",
       "    </tr>\n",
       "    <tr>\n",
       "      <th>4</th>\n",
       "      <td>2020-01-24</td>\n",
       "      <td>9830000.0</td>\n",
       "      <td>1</td>\n",
       "    </tr>\n",
       "    <tr>\n",
       "      <th>...</th>\n",
       "      <td>...</td>\n",
       "      <td>...</td>\n",
       "      <td>...</td>\n",
       "    </tr>\n",
       "    <tr>\n",
       "      <th>585</th>\n",
       "      <td>2021-08-27</td>\n",
       "      <td>56566000.0</td>\n",
       "      <td>1837</td>\n",
       "    </tr>\n",
       "    <tr>\n",
       "      <th>586</th>\n",
       "      <td>2021-08-28</td>\n",
       "      <td>56988000.0</td>\n",
       "      <td>1791</td>\n",
       "    </tr>\n",
       "    <tr>\n",
       "      <th>587</th>\n",
       "      <td>2021-08-29</td>\n",
       "      <td>56792000.0</td>\n",
       "      <td>1619</td>\n",
       "    </tr>\n",
       "    <tr>\n",
       "      <th>588</th>\n",
       "      <td>2021-08-30</td>\n",
       "      <td>56353000.0</td>\n",
       "      <td>1485</td>\n",
       "    </tr>\n",
       "    <tr>\n",
       "      <th>589</th>\n",
       "      <td>2021-08-31</td>\n",
       "      <td>55324000.0</td>\n",
       "      <td>1370</td>\n",
       "    </tr>\n",
       "  </tbody>\n",
       "</table>\n",
       "<p>590 rows × 3 columns</p>\n",
       "</div>"
      ],
      "text/plain": [
       "           time       close    인원\n",
       "0    2020-01-20   9884000.0     1\n",
       "1    2020-01-21   9878000.0     0\n",
       "2    2020-01-22   9887000.0     0\n",
       "3    2020-01-23   9661000.0     0\n",
       "4    2020-01-24   9830000.0     1\n",
       "..          ...         ...   ...\n",
       "585  2021-08-27  56566000.0  1837\n",
       "586  2021-08-28  56988000.0  1791\n",
       "587  2021-08-29  56792000.0  1619\n",
       "588  2021-08-30  56353000.0  1485\n",
       "589  2021-08-31  55324000.0  1370\n",
       "\n",
       "[590 rows x 3 columns]"
      ]
     },
     "execution_count": 30,
     "metadata": {},
     "output_type": "execute_result"
    }
   ],
   "source": [
    "dat_all"
   ]
  },
  {
   "cell_type": "code",
   "execution_count": 34,
   "id": "dc921a85",
   "metadata": {},
   "outputs": [
    {
     "data": {
      "text/plain": [
       "0       9884000\n",
       "1       9878000\n",
       "2       9887000\n",
       "3       9661000\n",
       "4       9830000\n",
       "         ...   \n",
       "585    56566000\n",
       "586    56988000\n",
       "587    56792000\n",
       "588    56353000\n",
       "589    55324000\n",
       "Name: close, Length: 590, dtype: int64"
      ]
     },
     "execution_count": 34,
     "metadata": {},
     "output_type": "execute_result"
    }
   ],
   "source": [
    "dat_all['close'].astype('int')"
   ]
  },
  {
   "cell_type": "code",
   "execution_count": 35,
   "id": "01abe414",
   "metadata": {},
   "outputs": [
    {
     "data": {
      "text/html": [
       "<div>\n",
       "<style scoped>\n",
       "    .dataframe tbody tr th:only-of-type {\n",
       "        vertical-align: middle;\n",
       "    }\n",
       "\n",
       "    .dataframe tbody tr th {\n",
       "        vertical-align: top;\n",
       "    }\n",
       "\n",
       "    .dataframe thead th {\n",
       "        text-align: right;\n",
       "    }\n",
       "</style>\n",
       "<table border=\"1\" class=\"dataframe\">\n",
       "  <thead>\n",
       "    <tr style=\"text-align: right;\">\n",
       "      <th></th>\n",
       "      <th>time</th>\n",
       "      <th>close</th>\n",
       "      <th>인원</th>\n",
       "    </tr>\n",
       "  </thead>\n",
       "  <tbody>\n",
       "    <tr>\n",
       "      <th>0</th>\n",
       "      <td>2020-01-20</td>\n",
       "      <td>9884000.0</td>\n",
       "      <td>1</td>\n",
       "    </tr>\n",
       "    <tr>\n",
       "      <th>1</th>\n",
       "      <td>2020-01-21</td>\n",
       "      <td>9878000.0</td>\n",
       "      <td>0</td>\n",
       "    </tr>\n",
       "    <tr>\n",
       "      <th>2</th>\n",
       "      <td>2020-01-22</td>\n",
       "      <td>9887000.0</td>\n",
       "      <td>0</td>\n",
       "    </tr>\n",
       "    <tr>\n",
       "      <th>3</th>\n",
       "      <td>2020-01-23</td>\n",
       "      <td>9661000.0</td>\n",
       "      <td>0</td>\n",
       "    </tr>\n",
       "    <tr>\n",
       "      <th>4</th>\n",
       "      <td>2020-01-24</td>\n",
       "      <td>9830000.0</td>\n",
       "      <td>1</td>\n",
       "    </tr>\n",
       "    <tr>\n",
       "      <th>...</th>\n",
       "      <td>...</td>\n",
       "      <td>...</td>\n",
       "      <td>...</td>\n",
       "    </tr>\n",
       "    <tr>\n",
       "      <th>585</th>\n",
       "      <td>2021-08-27</td>\n",
       "      <td>56566000.0</td>\n",
       "      <td>1837</td>\n",
       "    </tr>\n",
       "    <tr>\n",
       "      <th>586</th>\n",
       "      <td>2021-08-28</td>\n",
       "      <td>56988000.0</td>\n",
       "      <td>1791</td>\n",
       "    </tr>\n",
       "    <tr>\n",
       "      <th>587</th>\n",
       "      <td>2021-08-29</td>\n",
       "      <td>56792000.0</td>\n",
       "      <td>1619</td>\n",
       "    </tr>\n",
       "    <tr>\n",
       "      <th>588</th>\n",
       "      <td>2021-08-30</td>\n",
       "      <td>56353000.0</td>\n",
       "      <td>1485</td>\n",
       "    </tr>\n",
       "    <tr>\n",
       "      <th>589</th>\n",
       "      <td>2021-08-31</td>\n",
       "      <td>55324000.0</td>\n",
       "      <td>1370</td>\n",
       "    </tr>\n",
       "  </tbody>\n",
       "</table>\n",
       "<p>590 rows × 3 columns</p>\n",
       "</div>"
      ],
      "text/plain": [
       "           time       close    인원\n",
       "0    2020-01-20   9884000.0     1\n",
       "1    2020-01-21   9878000.0     0\n",
       "2    2020-01-22   9887000.0     0\n",
       "3    2020-01-23   9661000.0     0\n",
       "4    2020-01-24   9830000.0     1\n",
       "..          ...         ...   ...\n",
       "585  2021-08-27  56566000.0  1837\n",
       "586  2021-08-28  56988000.0  1791\n",
       "587  2021-08-29  56792000.0  1619\n",
       "588  2021-08-30  56353000.0  1485\n",
       "589  2021-08-31  55324000.0  1370\n",
       "\n",
       "[590 rows x 3 columns]"
      ]
     },
     "execution_count": 35,
     "metadata": {},
     "output_type": "execute_result"
    }
   ],
   "source": [
    "dat_all"
   ]
  },
  {
   "cell_type": "code",
   "execution_count": 36,
   "id": "b0d8c8c2",
   "metadata": {},
   "outputs": [
    {
     "data": {
      "text/html": [
       "<div>\n",
       "<style scoped>\n",
       "    .dataframe tbody tr th:only-of-type {\n",
       "        vertical-align: middle;\n",
       "    }\n",
       "\n",
       "    .dataframe tbody tr th {\n",
       "        vertical-align: top;\n",
       "    }\n",
       "\n",
       "    .dataframe thead th {\n",
       "        text-align: right;\n",
       "    }\n",
       "</style>\n",
       "<table border=\"1\" class=\"dataframe\">\n",
       "  <thead>\n",
       "    <tr style=\"text-align: right;\">\n",
       "      <th></th>\n",
       "      <th>close</th>\n",
       "      <th>인원</th>\n",
       "    </tr>\n",
       "  </thead>\n",
       "  <tbody>\n",
       "    <tr>\n",
       "      <th>close</th>\n",
       "      <td>1.000000</td>\n",
       "      <td>0.590204</td>\n",
       "    </tr>\n",
       "    <tr>\n",
       "      <th>인원</th>\n",
       "      <td>0.590204</td>\n",
       "      <td>1.000000</td>\n",
       "    </tr>\n",
       "  </tbody>\n",
       "</table>\n",
       "</div>"
      ],
      "text/plain": [
       "          close        인원\n",
       "close  1.000000  0.590204\n",
       "인원     0.590204  1.000000"
      ]
     },
     "execution_count": 36,
     "metadata": {},
     "output_type": "execute_result"
    }
   ],
   "source": [
    "corr = dat_all[['close','인원']].corr()\n",
    "corr"
   ]
  },
  {
   "cell_type": "code",
   "execution_count": null,
   "id": "2ed60d75",
   "metadata": {},
   "outputs": [],
   "source": []
  }
 ],
 "metadata": {
  "kernelspec": {
   "display_name": "Python 3",
   "language": "python",
   "name": "python3"
  },
  "language_info": {
   "codemirror_mode": {
    "name": "ipython",
    "version": 3
   },
   "file_extension": ".py",
   "mimetype": "text/x-python",
   "name": "python",
   "nbconvert_exporter": "python",
   "pygments_lexer": "ipython3",
   "version": "3.8.8"
  },
  "varInspector": {
   "cols": {
    "lenName": 16,
    "lenType": 16,
    "lenVar": 40
   },
   "kernels_config": {
    "python": {
     "delete_cmd_postfix": "",
     "delete_cmd_prefix": "del ",
     "library": "var_list.py",
     "varRefreshCmd": "print(var_dic_list())"
    },
    "r": {
     "delete_cmd_postfix": ") ",
     "delete_cmd_prefix": "rm(",
     "library": "var_list.r",
     "varRefreshCmd": "cat(var_dic_list()) "
    }
   },
   "types_to_exclude": [
    "module",
    "function",
    "builtin_function_or_method",
    "instance",
    "_Feature"
   ],
   "window_display": false
  }
 },
 "nbformat": 4,
 "nbformat_minor": 5
}
