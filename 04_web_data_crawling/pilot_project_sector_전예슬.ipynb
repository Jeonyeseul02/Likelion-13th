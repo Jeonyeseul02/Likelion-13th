{
 "cells": [
  {
   "cell_type": "code",
   "execution_count": 98,
   "id": "6fee6199",
   "metadata": {},
   "outputs": [],
   "source": [
    "from selenium import  webdriver\n",
    "from bs4 import BeautifulSoup\n",
    "import time\n",
    "\n",
    "url = \"http://www.kyobobook.co.kr/bestSellerNew/bestseller.laf\"\n",
    "driver = webdriver.Chrome('./chromedriver')\n",
    "\n",
    "driver.get(url)"
   ]
  },
  {
   "cell_type": "code",
   "execution_count": 99,
   "id": "7db876f3",
   "metadata": {},
   "outputs": [],
   "source": [
    "# all_sector = []\n",
    "# for btn2 in range(1,3,1):\n",
    "#     sel_btn = driver.find_element_by_xpath('//*[@id=\"main_contents\"]/ul/li[' +str(btn2)+ ']/div[2]/div[2]/a/strong')\n",
    "#     sel_btn.click()\n",
    "#     time.sleep(1)\n",
    "#     xpath = '//*[@id=\"container\"]/div[5]/div[1]/div[3]/ul/li[1]/a[1]'\n",
    "#     sector = driver.find_element_by_xpath(xpath)\n",
    "#     all_sector.append(sector.text)\n",
    "#     driver.back()\n",
    "#     time.sleep(1)\n",
    "# all_sector"
   ]
  },
  {
   "cell_type": "code",
   "execution_count": 100,
   "id": "09f7bbb0",
   "metadata": {},
   "outputs": [],
   "source": [
    "# print(len(all_sector))"
   ]
  },
  {
   "cell_type": "code",
   "execution_count": 101,
   "id": "a04fed87",
   "metadata": {},
   "outputs": [
    {
     "data": {
      "text/plain": [
       "['소설', '소설', '자기계발', '경제/경영', '인문', '소설', '자기계발', '자기계발', '가정/육아', '어린이(초등)']"
      ]
     },
     "execution_count": 101,
     "metadata": {},
     "output_type": "execute_result"
    }
   ],
   "source": [
    "all_sector = []\n",
    "for btn2 in range(1,3,1):\n",
    "    sel_btn = driver.find_element_by_xpath('//*[@id=\"main_contents\"]/ul/li[' +str(btn2)+ ']/div[2]/div[2]/a/strong')\n",
    "    sel_btn.click()\n",
    "    time.sleep(1)\n",
    "    xpath = '//*[@id=\"container\"]/div[5]/div[1]/div[3]/ul/li[1]/a[1]'\n",
    "    sector = driver.find_element_by_xpath(xpath)\n",
    "    all_sector.append(sector.text)\n",
    "    driver.back()\n",
    "    time.sleep(1)\n",
    "\n",
    "for page in range(2,6,1):\n",
    "    sel_page = driver.find_element_by_xpath('//*[@id=\"main_contents\"]/div[5]/div[1]/ul/li[' +str(page)+ ']/a')\n",
    "    sel_page.click()\n",
    "    for btn2 in range(1,3,1):\n",
    "        sel_btn = driver.find_element_by_xpath('//*[@id=\"main_contents\"]/ul/li[' +str(btn2)+ ']/div[2]/div[2]/a/strong')\n",
    "        sel_btn.click()\n",
    "        time.sleep(1)\n",
    "        xpath = '//*[@id=\"container\"]/div[5]/div[1]/div[3]/ul/li[1]/a[1]'\n",
    "        sector = driver.find_element_by_xpath(xpath)\n",
    "        all_sector.append(sector.text)\n",
    "        driver.back()\n",
    "        time.sleep(1)\n",
    "        \n",
    "all_sector"
   ]
  },
  {
   "cell_type": "code",
   "execution_count": 102,
   "id": "715acc27",
   "metadata": {},
   "outputs": [
    {
     "name": "stdout",
     "output_type": "stream",
     "text": [
      "10\n"
     ]
    }
   ],
   "source": [
    "print(len(all_sector))"
   ]
  },
  {
   "cell_type": "code",
   "execution_count": null,
   "id": "14314b29",
   "metadata": {},
   "outputs": [],
   "source": []
  }
 ],
 "metadata": {
  "kernelspec": {
   "display_name": "Python 3",
   "language": "python",
   "name": "python3"
  },
  "language_info": {
   "codemirror_mode": {
    "name": "ipython",
    "version": 3
   },
   "file_extension": ".py",
   "mimetype": "text/x-python",
   "name": "python",
   "nbconvert_exporter": "python",
   "pygments_lexer": "ipython3",
   "version": "3.8.8"
  }
 },
 "nbformat": 4,
 "nbformat_minor": 5
}
