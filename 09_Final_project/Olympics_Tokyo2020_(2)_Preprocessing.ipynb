{
 "cells": [
  {
   "cell_type": "markdown",
   "id": "a6ed77e7",
   "metadata": {},
   "source": [
    "## 데이터 라벨링\n",
    "* 팀명(범주형) 데이터를 팀명라벨링(수치형)데이터로 변경"
   ]
  },
  {
   "cell_type": "markdown",
   "id": "c9b35270",
   "metadata": {},
   "source": [
    "### 모듈 불러옴"
   ]
  },
  {
   "cell_type": "code",
   "execution_count": 1,
   "id": "b5cc8ff9",
   "metadata": {},
   "outputs": [],
   "source": [
    "import matplotlib.pyplot as plt\n",
    "import seaborn as sns\n",
    "import pandas as pd\n",
    "from sklearn.preprocessing import LabelEncoder, OneHotEncoder"
   ]
  },
  {
   "cell_type": "markdown",
   "id": "f41a707f",
   "metadata": {},
   "source": [
    "### 데이터 불러옴"
   ]
  },
  {
   "cell_type": "code",
   "execution_count": 2,
   "id": "63c0c94c",
   "metadata": {},
   "outputs": [
    {
     "name": "stderr",
     "output_type": "stream",
     "text": [
      "C:\\Users\\hingu\\anaconda3\\lib\\site-packages\\openpyxl\\styles\\stylesheet.py:221: UserWarning: Workbook contains no default style, apply openpyxl's default\n",
      "  warn(\"Workbook contains no default style, apply openpyxl's default\")\n"
     ]
    },
    {
     "data": {
      "text/plain": [
       "((11085, 3), (46, 4), (93, 7))"
      ]
     },
     "execution_count": 2,
     "metadata": {},
     "output_type": "execute_result"
    }
   ],
   "source": [
    "athlete = pd.read_excel(\"Athletes.xlsx\")\n",
    "gender = pd.read_excel('EntriesGender.xlsx')\n",
    "medal = pd.read_excel('Medals.xlsx')\n",
    "\n",
    "athlete.shape, gender.shape, medal.shape"
   ]
  },
  {
   "cell_type": "code",
   "execution_count": 3,
   "id": "39bb9a83",
   "metadata": {},
   "outputs": [
    {
     "data": {
      "text/plain": [
       "Index(['Name', 'NOC', 'Discipline'], dtype='object')"
      ]
     },
     "execution_count": 3,
     "metadata": {},
     "output_type": "execute_result"
    }
   ],
   "source": [
    "athlete.columns"
   ]
  },
  {
   "cell_type": "code",
   "execution_count": 4,
   "id": "a7dbb62a",
   "metadata": {},
   "outputs": [
    {
     "data": {
      "text/plain": [
       "Index(['Rank', 'Team/NOC', 'Gold', 'Silver', 'Bronze', 'Total',\n",
       "       'Rank by Total'],\n",
       "      dtype='object')"
      ]
     },
     "execution_count": 4,
     "metadata": {},
     "output_type": "execute_result"
    }
   ],
   "source": [
    "medal.columns"
   ]
  },
  {
   "cell_type": "markdown",
   "id": "4250c46f",
   "metadata": {},
   "source": [
    "### 팀명 라벨링"
   ]
  },
  {
   "cell_type": "code",
   "execution_count": 5,
   "id": "c3df19bd",
   "metadata": {},
   "outputs": [
    {
     "data": {
      "text/html": [
       "<div>\n",
       "<style scoped>\n",
       "    .dataframe tbody tr th:only-of-type {\n",
       "        vertical-align: middle;\n",
       "    }\n",
       "\n",
       "    .dataframe tbody tr th {\n",
       "        vertical-align: top;\n",
       "    }\n",
       "\n",
       "    .dataframe thead th {\n",
       "        text-align: right;\n",
       "    }\n",
       "</style>\n",
       "<table border=\"1\" class=\"dataframe\">\n",
       "  <thead>\n",
       "    <tr style=\"text-align: right;\">\n",
       "      <th></th>\n",
       "      <th>Rank</th>\n",
       "      <th>Team/NOC</th>\n",
       "      <th>Gold</th>\n",
       "      <th>Silver</th>\n",
       "      <th>Bronze</th>\n",
       "      <th>Total</th>\n",
       "      <th>Rank by Total</th>\n",
       "      <th>Team/NOC_lbl</th>\n",
       "    </tr>\n",
       "  </thead>\n",
       "  <tbody>\n",
       "    <tr>\n",
       "      <th>0</th>\n",
       "      <td>1</td>\n",
       "      <td>United States of America</td>\n",
       "      <td>39</td>\n",
       "      <td>41</td>\n",
       "      <td>33</td>\n",
       "      <td>113</td>\n",
       "      <td>1</td>\n",
       "      <td>90</td>\n",
       "    </tr>\n",
       "    <tr>\n",
       "      <th>1</th>\n",
       "      <td>2</td>\n",
       "      <td>People's Republic of China</td>\n",
       "      <td>38</td>\n",
       "      <td>32</td>\n",
       "      <td>18</td>\n",
       "      <td>88</td>\n",
       "      <td>2</td>\n",
       "      <td>64</td>\n",
       "    </tr>\n",
       "    <tr>\n",
       "      <th>2</th>\n",
       "      <td>3</td>\n",
       "      <td>Japan</td>\n",
       "      <td>27</td>\n",
       "      <td>14</td>\n",
       "      <td>17</td>\n",
       "      <td>58</td>\n",
       "      <td>5</td>\n",
       "      <td>45</td>\n",
       "    </tr>\n",
       "    <tr>\n",
       "      <th>3</th>\n",
       "      <td>4</td>\n",
       "      <td>Great Britain</td>\n",
       "      <td>22</td>\n",
       "      <td>21</td>\n",
       "      <td>22</td>\n",
       "      <td>65</td>\n",
       "      <td>4</td>\n",
       "      <td>33</td>\n",
       "    </tr>\n",
       "    <tr>\n",
       "      <th>4</th>\n",
       "      <td>5</td>\n",
       "      <td>ROC</td>\n",
       "      <td>20</td>\n",
       "      <td>28</td>\n",
       "      <td>23</td>\n",
       "      <td>71</td>\n",
       "      <td>3</td>\n",
       "      <td>70</td>\n",
       "    </tr>\n",
       "    <tr>\n",
       "      <th>...</th>\n",
       "      <td>...</td>\n",
       "      <td>...</td>\n",
       "      <td>...</td>\n",
       "      <td>...</td>\n",
       "      <td>...</td>\n",
       "      <td>...</td>\n",
       "      <td>...</td>\n",
       "      <td>...</td>\n",
       "    </tr>\n",
       "    <tr>\n",
       "      <th>88</th>\n",
       "      <td>86</td>\n",
       "      <td>Ghana</td>\n",
       "      <td>0</td>\n",
       "      <td>0</td>\n",
       "      <td>1</td>\n",
       "      <td>1</td>\n",
       "      <td>77</td>\n",
       "      <td>32</td>\n",
       "    </tr>\n",
       "    <tr>\n",
       "      <th>89</th>\n",
       "      <td>86</td>\n",
       "      <td>Grenada</td>\n",
       "      <td>0</td>\n",
       "      <td>0</td>\n",
       "      <td>1</td>\n",
       "      <td>1</td>\n",
       "      <td>77</td>\n",
       "      <td>35</td>\n",
       "    </tr>\n",
       "    <tr>\n",
       "      <th>90</th>\n",
       "      <td>86</td>\n",
       "      <td>Kuwait</td>\n",
       "      <td>0</td>\n",
       "      <td>0</td>\n",
       "      <td>1</td>\n",
       "      <td>1</td>\n",
       "      <td>77</td>\n",
       "      <td>50</td>\n",
       "    </tr>\n",
       "    <tr>\n",
       "      <th>91</th>\n",
       "      <td>86</td>\n",
       "      <td>Republic of Moldova</td>\n",
       "      <td>0</td>\n",
       "      <td>0</td>\n",
       "      <td>1</td>\n",
       "      <td>1</td>\n",
       "      <td>77</td>\n",
       "      <td>72</td>\n",
       "    </tr>\n",
       "    <tr>\n",
       "      <th>92</th>\n",
       "      <td>86</td>\n",
       "      <td>Syrian Arab Republic</td>\n",
       "      <td>0</td>\n",
       "      <td>0</td>\n",
       "      <td>1</td>\n",
       "      <td>1</td>\n",
       "      <td>77</td>\n",
       "      <td>83</td>\n",
       "    </tr>\n",
       "  </tbody>\n",
       "</table>\n",
       "<p>93 rows × 8 columns</p>\n",
       "</div>"
      ],
      "text/plain": [
       "    Rank                    Team/NOC  Gold  Silver  Bronze  Total  \\\n",
       "0      1    United States of America    39      41      33    113   \n",
       "1      2  People's Republic of China    38      32      18     88   \n",
       "2      3                       Japan    27      14      17     58   \n",
       "3      4               Great Britain    22      21      22     65   \n",
       "4      5                         ROC    20      28      23     71   \n",
       "..   ...                         ...   ...     ...     ...    ...   \n",
       "88    86                       Ghana     0       0       1      1   \n",
       "89    86                     Grenada     0       0       1      1   \n",
       "90    86                      Kuwait     0       0       1      1   \n",
       "91    86         Republic of Moldova     0       0       1      1   \n",
       "92    86        Syrian Arab Republic     0       0       1      1   \n",
       "\n",
       "    Rank by Total  Team/NOC_lbl  \n",
       "0               1            90  \n",
       "1               2            64  \n",
       "2               5            45  \n",
       "3               4            33  \n",
       "4               3            70  \n",
       "..            ...           ...  \n",
       "88             77            32  \n",
       "89             77            35  \n",
       "90             77            50  \n",
       "91             77            72  \n",
       "92             77            83  \n",
       "\n",
       "[93 rows x 8 columns]"
      ]
     },
     "execution_count": 5,
     "metadata": {},
     "output_type": "execute_result"
    }
   ],
   "source": [
    "ex_x = LabelEncoder()\n",
    "medal['Team/NOC_lbl'] = ex_x.fit_transform(medal['Team/NOC'])\n",
    "medal"
   ]
  },
  {
   "cell_type": "markdown",
   "id": "4675c5b6",
   "metadata": {},
   "source": [
    "### csv파일로 저장"
   ]
  },
  {
   "cell_type": "code",
   "execution_count": 6,
   "id": "96246c82",
   "metadata": {},
   "outputs": [],
   "source": [
    "medal.to_csv(\"medal2.csv\", index=False)"
   ]
  },
  {
   "cell_type": "code",
   "execution_count": null,
   "id": "5aa2d13e",
   "metadata": {},
   "outputs": [],
   "source": []
  }
 ],
 "metadata": {
  "kernelspec": {
   "display_name": "Python 3",
   "language": "python",
   "name": "python3"
  },
  "language_info": {
   "codemirror_mode": {
    "name": "ipython",
    "version": 3
   },
   "file_extension": ".py",
   "mimetype": "text/x-python",
   "name": "python",
   "nbconvert_exporter": "python",
   "pygments_lexer": "ipython3",
   "version": "3.8.8"
  }
 },
 "nbformat": 4,
 "nbformat_minor": 5
}
