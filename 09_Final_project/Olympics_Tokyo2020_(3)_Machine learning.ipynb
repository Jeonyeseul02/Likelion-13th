{
 "cells": [
  {
   "cell_type": "markdown",
   "id": "ecddc75b",
   "metadata": {},
   "source": [
    "## 두 가지 머신러닝 모델 만들기\n",
    "* 첫번째 모델 : 순위 예측 모델 만들기\n",
    "* 두번째 모델 : 금은동 메달 개수 입력시 해당 팀명 출력하는 모델"
   ]
  },
  {
   "cell_type": "markdown",
   "id": "686c6f3f",
   "metadata": {},
   "source": [
    "### 모듈 및 데이터 불러옴"
   ]
  },
  {
   "cell_type": "code",
   "execution_count": 109,
   "id": "848d45d7",
   "metadata": {},
   "outputs": [],
   "source": [
    "import pandas as pd\n",
    "from sklearn.neighbors import KNeighborsClassifier\n",
    "from sklearn.model_selection import train_test_split\n",
    "from sklearn.model_selection import cross_val_score\n",
    "from sklearn.model_selection import KFold"
   ]
  },
  {
   "cell_type": "code",
   "execution_count": 110,
   "id": "e9f5b67e",
   "metadata": {
    "scrolled": true
   },
   "outputs": [
    {
     "data": {
      "text/html": [
       "<div>\n",
       "<style scoped>\n",
       "    .dataframe tbody tr th:only-of-type {\n",
       "        vertical-align: middle;\n",
       "    }\n",
       "\n",
       "    .dataframe tbody tr th {\n",
       "        vertical-align: top;\n",
       "    }\n",
       "\n",
       "    .dataframe thead th {\n",
       "        text-align: right;\n",
       "    }\n",
       "</style>\n",
       "<table border=\"1\" class=\"dataframe\">\n",
       "  <thead>\n",
       "    <tr style=\"text-align: right;\">\n",
       "      <th></th>\n",
       "      <th>Rank</th>\n",
       "      <th>Team/NOC</th>\n",
       "      <th>Gold</th>\n",
       "      <th>Silver</th>\n",
       "      <th>Bronze</th>\n",
       "      <th>Total</th>\n",
       "      <th>Rank by Total</th>\n",
       "      <th>Team/NOC_lbl</th>\n",
       "    </tr>\n",
       "  </thead>\n",
       "  <tbody>\n",
       "    <tr>\n",
       "      <th>0</th>\n",
       "      <td>1</td>\n",
       "      <td>United States of America</td>\n",
       "      <td>39</td>\n",
       "      <td>41</td>\n",
       "      <td>33</td>\n",
       "      <td>113</td>\n",
       "      <td>1</td>\n",
       "      <td>90</td>\n",
       "    </tr>\n",
       "    <tr>\n",
       "      <th>1</th>\n",
       "      <td>2</td>\n",
       "      <td>People's Republic of China</td>\n",
       "      <td>38</td>\n",
       "      <td>32</td>\n",
       "      <td>18</td>\n",
       "      <td>88</td>\n",
       "      <td>2</td>\n",
       "      <td>64</td>\n",
       "    </tr>\n",
       "    <tr>\n",
       "      <th>2</th>\n",
       "      <td>3</td>\n",
       "      <td>Japan</td>\n",
       "      <td>27</td>\n",
       "      <td>14</td>\n",
       "      <td>17</td>\n",
       "      <td>58</td>\n",
       "      <td>5</td>\n",
       "      <td>45</td>\n",
       "    </tr>\n",
       "    <tr>\n",
       "      <th>3</th>\n",
       "      <td>4</td>\n",
       "      <td>Great Britain</td>\n",
       "      <td>22</td>\n",
       "      <td>21</td>\n",
       "      <td>22</td>\n",
       "      <td>65</td>\n",
       "      <td>4</td>\n",
       "      <td>33</td>\n",
       "    </tr>\n",
       "    <tr>\n",
       "      <th>4</th>\n",
       "      <td>5</td>\n",
       "      <td>ROC</td>\n",
       "      <td>20</td>\n",
       "      <td>28</td>\n",
       "      <td>23</td>\n",
       "      <td>71</td>\n",
       "      <td>3</td>\n",
       "      <td>70</td>\n",
       "    </tr>\n",
       "    <tr>\n",
       "      <th>...</th>\n",
       "      <td>...</td>\n",
       "      <td>...</td>\n",
       "      <td>...</td>\n",
       "      <td>...</td>\n",
       "      <td>...</td>\n",
       "      <td>...</td>\n",
       "      <td>...</td>\n",
       "      <td>...</td>\n",
       "    </tr>\n",
       "    <tr>\n",
       "      <th>88</th>\n",
       "      <td>86</td>\n",
       "      <td>Ghana</td>\n",
       "      <td>0</td>\n",
       "      <td>0</td>\n",
       "      <td>1</td>\n",
       "      <td>1</td>\n",
       "      <td>77</td>\n",
       "      <td>32</td>\n",
       "    </tr>\n",
       "    <tr>\n",
       "      <th>89</th>\n",
       "      <td>86</td>\n",
       "      <td>Grenada</td>\n",
       "      <td>0</td>\n",
       "      <td>0</td>\n",
       "      <td>1</td>\n",
       "      <td>1</td>\n",
       "      <td>77</td>\n",
       "      <td>35</td>\n",
       "    </tr>\n",
       "    <tr>\n",
       "      <th>90</th>\n",
       "      <td>86</td>\n",
       "      <td>Kuwait</td>\n",
       "      <td>0</td>\n",
       "      <td>0</td>\n",
       "      <td>1</td>\n",
       "      <td>1</td>\n",
       "      <td>77</td>\n",
       "      <td>50</td>\n",
       "    </tr>\n",
       "    <tr>\n",
       "      <th>91</th>\n",
       "      <td>86</td>\n",
       "      <td>Republic of Moldova</td>\n",
       "      <td>0</td>\n",
       "      <td>0</td>\n",
       "      <td>1</td>\n",
       "      <td>1</td>\n",
       "      <td>77</td>\n",
       "      <td>72</td>\n",
       "    </tr>\n",
       "    <tr>\n",
       "      <th>92</th>\n",
       "      <td>86</td>\n",
       "      <td>Syrian Arab Republic</td>\n",
       "      <td>0</td>\n",
       "      <td>0</td>\n",
       "      <td>1</td>\n",
       "      <td>1</td>\n",
       "      <td>77</td>\n",
       "      <td>83</td>\n",
       "    </tr>\n",
       "  </tbody>\n",
       "</table>\n",
       "<p>93 rows × 8 columns</p>\n",
       "</div>"
      ],
      "text/plain": [
       "    Rank                    Team/NOC  Gold  Silver  Bronze  Total  \\\n",
       "0      1    United States of America    39      41      33    113   \n",
       "1      2  People's Republic of China    38      32      18     88   \n",
       "2      3                       Japan    27      14      17     58   \n",
       "3      4               Great Britain    22      21      22     65   \n",
       "4      5                         ROC    20      28      23     71   \n",
       "..   ...                         ...   ...     ...     ...    ...   \n",
       "88    86                       Ghana     0       0       1      1   \n",
       "89    86                     Grenada     0       0       1      1   \n",
       "90    86                      Kuwait     0       0       1      1   \n",
       "91    86         Republic of Moldova     0       0       1      1   \n",
       "92    86        Syrian Arab Republic     0       0       1      1   \n",
       "\n",
       "    Rank by Total  Team/NOC_lbl  \n",
       "0               1            90  \n",
       "1               2            64  \n",
       "2               5            45  \n",
       "3               4            33  \n",
       "4               3            70  \n",
       "..            ...           ...  \n",
       "88             77            32  \n",
       "89             77            35  \n",
       "90             77            50  \n",
       "91             77            72  \n",
       "92             77            83  \n",
       "\n",
       "[93 rows x 8 columns]"
      ]
     },
     "execution_count": 110,
     "metadata": {},
     "output_type": "execute_result"
    }
   ],
   "source": [
    "medal = pd.read_csv(\"medal2.csv\")\n",
    "medal"
   ]
  },
  {
   "cell_type": "markdown",
   "id": "817a762f",
   "metadata": {},
   "source": [
    "## 첫번째 모델\n",
    "* Knn 모델"
   ]
  },
  {
   "cell_type": "markdown",
   "id": "4f97f39e",
   "metadata": {},
   "source": [
    "### 데이터 나누기 "
   ]
  },
  {
   "cell_type": "code",
   "execution_count": 111,
   "id": "e8a5d3bd",
   "metadata": {},
   "outputs": [],
   "source": [
    "sel = ['Gold', \"Silver\", \"Bronze\" ]\n",
    "\n",
    "X_n = medal[sel]\n",
    "y_n = medal['Rank']\n",
    "\n",
    "X_n_train, X_n_test, y_n_train, y_n_test = train_test_split(X_n,y_n,\n",
    "                                                   random_state=1)"
   ]
  },
  {
   "cell_type": "code",
   "execution_count": 112,
   "id": "d085ce03",
   "metadata": {},
   "outputs": [
    {
     "data": {
      "text/plain": [
       "KNeighborsClassifier()"
      ]
     },
     "execution_count": 112,
     "metadata": {},
     "output_type": "execute_result"
    }
   ],
   "source": [
    "knn = KNeighborsClassifier()\n",
    "knn.fit(X_n_train,y_n_train)"
   ]
  },
  {
   "cell_type": "code",
   "execution_count": 113,
   "id": "86de88c9",
   "metadata": {},
   "outputs": [
    {
     "data": {
      "text/plain": [
       "array([59, 86, 48, 59, 86, 77, 59, 48, 72, 59, 59, 27, 86, 21, 59, 59, 12,\n",
       "        4, 86, 86, 72, 26, 86, 31], dtype=int64)"
      ]
     },
     "execution_count": 113,
     "metadata": {},
     "output_type": "execute_result"
    }
   ],
   "source": [
    "pred = knn.predict(X_n_test)\n",
    "pred"
   ]
  },
  {
   "cell_type": "code",
   "execution_count": 114,
   "id": "79b0d75b",
   "metadata": {},
   "outputs": [
    {
     "data": {
      "text/plain": [
       "(0.4057971014492754, 0.25)"
      ]
     },
     "execution_count": 114,
     "metadata": {},
     "output_type": "execute_result"
    }
   ],
   "source": [
    "knn_tr = knn.score(X_n_train, y_n_train)\n",
    "knn_test = knn.score(X_n_test, y_n_test)\n",
    "knn_tr, knn_test"
   ]
  },
  {
   "cell_type": "code",
   "execution_count": 115,
   "id": "00ab51af",
   "metadata": {},
   "outputs": [
    {
     "name": "stdout",
     "output_type": "stream",
     "text": [
      "훈련 데이터셋 정확도 : 0.41\n",
      "테스트 데이터 셋 정확도 : 0.25\n"
     ]
    }
   ],
   "source": [
    "print(\"훈련 데이터셋 정확도 : {:.2f}\".format(knn_tr))\n",
    "print(\"테스트 데이터 셋 정확도 : {:.2f}\".format(knn_test))"
   ]
  },
  {
   "cell_type": "markdown",
   "id": "6fcab6f8",
   "metadata": {},
   "source": [
    "### 성능향상\n",
    "* K값에 따른 정확도 구하기"
   ]
  },
  {
   "cell_type": "code",
   "execution_count": 116,
   "id": "ccc57a5c",
   "metadata": {},
   "outputs": [
    {
     "name": "stdout",
     "output_type": "stream",
     "text": [
      "k : 1\n",
      "학습용셋 정확도 : 1.000\n",
      "테스트용 셋 정확도 : 0.417\n",
      "k : 3\n",
      "학습용셋 정확도 : 0.464\n",
      "테스트용 셋 정확도 : 0.292\n",
      "k : 5\n",
      "학습용셋 정확도 : 0.406\n",
      "테스트용 셋 정확도 : 0.250\n",
      "k : 7\n",
      "학습용셋 정확도 : 0.377\n",
      "테스트용 셋 정확도 : 0.250\n",
      "k : 9\n",
      "학습용셋 정확도 : 0.246\n",
      "테스트용 셋 정확도 : 0.208\n",
      "k : 11\n",
      "학습용셋 정확도 : 0.188\n",
      "테스트용 셋 정확도 : 0.208\n",
      "k : 13\n",
      "학습용셋 정확도 : 0.159\n",
      "테스트용 셋 정확도 : 0.208\n",
      "k : 15\n",
      "학습용셋 정확도 : 0.159\n",
      "테스트용 셋 정확도 : 0.208\n",
      "k : 17\n",
      "학습용셋 정확도 : 0.087\n",
      "테스트용 셋 정확도 : 0.042\n",
      "k : 19\n",
      "학습용셋 정확도 : 0.087\n",
      "테스트용 셋 정확도 : 0.042\n",
      "k : 21\n",
      "학습용셋 정확도 : 0.087\n",
      "테스트용 셋 정확도 : 0.042\n"
     ]
    }
   ],
   "source": [
    "tr_knn = []\n",
    "test_knn = []\n",
    "k_nums = range(1,22,2)\n",
    "\n",
    "for n in k_nums:\n",
    "    knn = KNeighborsClassifier(n_neighbors=n)\n",
    "    knn.fit(X_n_train,y_n_train)\n",
    "    \n",
    "    knn_tr = knn.score(X_n_train, y_n_train)\n",
    "    knn_test = knn.score(X_n_test, y_n_test)\n",
    "    \n",
    "    tr_knn.append(knn_tr)\n",
    "    test_knn.append(knn_test)\n",
    "    \n",
    "    print(\"k :\", n)\n",
    "    print(\"학습용셋 정확도 : {:.3f}\".format(knn_tr))\n",
    "    print(\"테스트용 셋 정확도 : {:.3f}\".format(knn_test))   "
   ]
  },
  {
   "cell_type": "code",
   "execution_count": 117,
   "id": "66640b5f",
   "metadata": {},
   "outputs": [],
   "source": [
    "import seaborn as sns"
   ]
  },
  {
   "cell_type": "code",
   "execution_count": 118,
   "id": "dfe0c12a",
   "metadata": {},
   "outputs": [
    {
     "data": {
      "text/html": [
       "<div>\n",
       "<style scoped>\n",
       "    .dataframe tbody tr th:only-of-type {\n",
       "        vertical-align: middle;\n",
       "    }\n",
       "\n",
       "    .dataframe tbody tr th {\n",
       "        vertical-align: top;\n",
       "    }\n",
       "\n",
       "    .dataframe thead th {\n",
       "        text-align: right;\n",
       "    }\n",
       "</style>\n",
       "<table border=\"1\" class=\"dataframe\">\n",
       "  <thead>\n",
       "    <tr style=\"text-align: right;\">\n",
       "      <th></th>\n",
       "      <th>train_score</th>\n",
       "      <th>test_score</th>\n",
       "    </tr>\n",
       "  </thead>\n",
       "  <tbody>\n",
       "    <tr>\n",
       "      <th>1</th>\n",
       "      <td>1.000000</td>\n",
       "      <td>0.416667</td>\n",
       "    </tr>\n",
       "    <tr>\n",
       "      <th>3</th>\n",
       "      <td>0.463768</td>\n",
       "      <td>0.291667</td>\n",
       "    </tr>\n",
       "    <tr>\n",
       "      <th>5</th>\n",
       "      <td>0.405797</td>\n",
       "      <td>0.250000</td>\n",
       "    </tr>\n",
       "    <tr>\n",
       "      <th>7</th>\n",
       "      <td>0.376812</td>\n",
       "      <td>0.250000</td>\n",
       "    </tr>\n",
       "    <tr>\n",
       "      <th>9</th>\n",
       "      <td>0.246377</td>\n",
       "      <td>0.208333</td>\n",
       "    </tr>\n",
       "    <tr>\n",
       "      <th>11</th>\n",
       "      <td>0.188406</td>\n",
       "      <td>0.208333</td>\n",
       "    </tr>\n",
       "    <tr>\n",
       "      <th>13</th>\n",
       "      <td>0.159420</td>\n",
       "      <td>0.208333</td>\n",
       "    </tr>\n",
       "    <tr>\n",
       "      <th>15</th>\n",
       "      <td>0.159420</td>\n",
       "      <td>0.208333</td>\n",
       "    </tr>\n",
       "    <tr>\n",
       "      <th>17</th>\n",
       "      <td>0.086957</td>\n",
       "      <td>0.041667</td>\n",
       "    </tr>\n",
       "    <tr>\n",
       "      <th>19</th>\n",
       "      <td>0.086957</td>\n",
       "      <td>0.041667</td>\n",
       "    </tr>\n",
       "    <tr>\n",
       "      <th>21</th>\n",
       "      <td>0.086957</td>\n",
       "      <td>0.041667</td>\n",
       "    </tr>\n",
       "  </tbody>\n",
       "</table>\n",
       "</div>"
      ],
      "text/plain": [
       "    train_score  test_score\n",
       "1      1.000000    0.416667\n",
       "3      0.463768    0.291667\n",
       "5      0.405797    0.250000\n",
       "7      0.376812    0.250000\n",
       "9      0.246377    0.208333\n",
       "11     0.188406    0.208333\n",
       "13     0.159420    0.208333\n",
       "15     0.159420    0.208333\n",
       "17     0.086957    0.041667\n",
       "19     0.086957    0.041667\n",
       "21     0.086957    0.041667"
      ]
     },
     "execution_count": 118,
     "metadata": {},
     "output_type": "execute_result"
    }
   ],
   "source": [
    "dat = {\"train_score\":tr_knn, \"test_score\":test_knn}\n",
    "data_df = pd.DataFrame(dat, index=range(1,22,2))\n",
    "data_df"
   ]
  },
  {
   "cell_type": "code",
   "execution_count": 119,
   "id": "ae03e72c",
   "metadata": {},
   "outputs": [],
   "source": [
    "import matplotlib.pyplot as plt"
   ]
  },
  {
   "cell_type": "code",
   "execution_count": 120,
   "id": "9fd7a1ca",
   "metadata": {},
   "outputs": [
    {
     "data": {
      "image/png": "[encoded data removed]",
      "text/plain": [
       "<Figure size 432x288 with 1 Axes>"
      ]
     },
     "metadata": {
      "needs_background": "light"
     },
     "output_type": "display_data"
    }
   ],
   "source": [
    "sns.lineplot(data=data_df, palette=\"tab10\")\n",
    "plt.title(\"Accuracy (based on K)\")\n",
    "plt.show()"
   ]
  },
  {
   "cell_type": "markdown",
   "id": "e97c47d7",
   "metadata": {},
   "source": [
    "* 테스트 사이즈에 따른 정확도"
   ]
  },
  {
   "cell_type": "code",
   "execution_count": 121,
   "id": "5a2461c2",
   "metadata": {},
   "outputs": [
    {
     "name": "stdout",
     "output_type": "stream",
     "text": [
      "학습용 : 9, 테스트용 : 1\n",
      "학습용 : 1.000, 테스트용 : 0.500\n",
      " \n",
      "학습용 : 8, 테스트용 : 2\n",
      "학습용 : 1.000, 테스트용 : 0.526\n",
      " \n",
      "학습용 : 7, 테스트용 : 3\n",
      "학습용 : 1.000, 테스트용 : 0.500\n",
      " \n",
      "학습용 : 6, 테스트용 : 4\n",
      "학습용 : 1.000, 테스트용 : 0.395\n",
      " \n",
      "학습용 : 5, 테스트용 : 5\n",
      "학습용 : 1.000, 테스트용 : 0.362\n",
      " \n"
     ]
    }
   ],
   "source": [
    "for i in range(1,6,1):\n",
    "    X_n_train, X_n_test, y_n_train, y_n_test = train_test_split(X_n,y_n,\n",
    "                                                       test_size=(i/10),\n",
    "                                                       random_state=3)\n",
    "    knn = KNeighborsClassifier(n_neighbors=1).fit(X_n_train,y_n_train)\n",
    "    \n",
    "    tr_score = knn.score(X_n_train,y_n_train)\n",
    "    test_score = knn.score(X_n_test,y_n_test)\n",
    "    print(\"학습용 : {}, 테스트용 : {}\".format(10-i, i))\n",
    "    print(\"학습용 : {:.3f}, 테스트용 : {:.3f}\\n \".format(tr_score, test_score))"
   ]
  },
  {
   "cell_type": "code",
   "execution_count": 122,
   "id": "c57663c3",
   "metadata": {},
   "outputs": [
    {
     "name": "stdout",
     "output_type": "stream",
     "text": [
      "Knn 모델 정확도 :  0.7\n"
     ]
    }
   ],
   "source": [
    "X_n = medal[sel]\n",
    "y_n = medal['Rank']\n",
    "\n",
    "X_n_train, X_n_test, y_n_train, y_n_test = train_test_split(X_n,y_n,\n",
    "                                                    test_size = 0.1,\n",
    "                                                   random_state=1)\n",
    "\n",
    "knn = KNeighborsClassifier(n_neighbors=1)\n",
    "knn.fit(X_n_train,y_n_train)\n",
    "pred = knn.predict(X_n_test)\n",
    "\n",
    "print(\"Knn 모델 정확도 : \",knn.score(X_n_test, y_n_test))"
   ]
  },
  {
   "cell_type": "code",
   "execution_count": 123,
   "id": "48813c67",
   "metadata": {},
   "outputs": [
    {
     "name": "stdout",
     "output_type": "stream",
     "text": [
      "MSE : 1.8\n",
      "RMSE :1.342\n"
     ]
    }
   ],
   "source": [
    "mse_val = ( (pred - y_test) **2).sum() / len(pred)\n",
    "print(\"MSE :\", mse_val)\n",
    "print(\"RMSE :{:.3f}\". format(mse_val **0.5))"
   ]
  },
  {
   "cell_type": "code",
   "execution_count": 124,
   "id": "a6cf9e75",
   "metadata": {},
   "outputs": [
    {
     "data": {
      "text/html": [
       "<div>\n",
       "<style scoped>\n",
       "    .dataframe tbody tr th:only-of-type {\n",
       "        vertical-align: middle;\n",
       "    }\n",
       "\n",
       "    .dataframe tbody tr th {\n",
       "        vertical-align: top;\n",
       "    }\n",
       "\n",
       "    .dataframe thead th {\n",
       "        text-align: right;\n",
       "    }\n",
       "</style>\n",
       "<table border=\"1\" class=\"dataframe\">\n",
       "  <thead>\n",
       "    <tr style=\"text-align: right;\">\n",
       "      <th></th>\n",
       "      <th>Rank</th>\n",
       "      <th>Team/NOC</th>\n",
       "      <th>Gold</th>\n",
       "      <th>Silver</th>\n",
       "      <th>Bronze</th>\n",
       "      <th>Total</th>\n",
       "      <th>Rank by Total</th>\n",
       "      <th>Team/NOC_lbl</th>\n",
       "    </tr>\n",
       "  </thead>\n",
       "  <tbody>\n",
       "    <tr>\n",
       "      <th>0</th>\n",
       "      <td>1</td>\n",
       "      <td>United States of America</td>\n",
       "      <td>39</td>\n",
       "      <td>41</td>\n",
       "      <td>33</td>\n",
       "      <td>113</td>\n",
       "      <td>1</td>\n",
       "      <td>90</td>\n",
       "    </tr>\n",
       "    <tr>\n",
       "      <th>1</th>\n",
       "      <td>2</td>\n",
       "      <td>People's Republic of China</td>\n",
       "      <td>38</td>\n",
       "      <td>32</td>\n",
       "      <td>18</td>\n",
       "      <td>88</td>\n",
       "      <td>2</td>\n",
       "      <td>64</td>\n",
       "    </tr>\n",
       "    <tr>\n",
       "      <th>2</th>\n",
       "      <td>3</td>\n",
       "      <td>Japan</td>\n",
       "      <td>27</td>\n",
       "      <td>14</td>\n",
       "      <td>17</td>\n",
       "      <td>58</td>\n",
       "      <td>5</td>\n",
       "      <td>45</td>\n",
       "    </tr>\n",
       "    <tr>\n",
       "      <th>3</th>\n",
       "      <td>4</td>\n",
       "      <td>Great Britain</td>\n",
       "      <td>22</td>\n",
       "      <td>21</td>\n",
       "      <td>22</td>\n",
       "      <td>65</td>\n",
       "      <td>4</td>\n",
       "      <td>33</td>\n",
       "    </tr>\n",
       "    <tr>\n",
       "      <th>4</th>\n",
       "      <td>5</td>\n",
       "      <td>ROC</td>\n",
       "      <td>20</td>\n",
       "      <td>28</td>\n",
       "      <td>23</td>\n",
       "      <td>71</td>\n",
       "      <td>3</td>\n",
       "      <td>70</td>\n",
       "    </tr>\n",
       "  </tbody>\n",
       "</table>\n",
       "</div>"
      ],
      "text/plain": [
       "   Rank                    Team/NOC  Gold  Silver  Bronze  Total  \\\n",
       "0     1    United States of America    39      41      33    113   \n",
       "1     2  People's Republic of China    38      32      18     88   \n",
       "2     3                       Japan    27      14      17     58   \n",
       "3     4               Great Britain    22      21      22     65   \n",
       "4     5                         ROC    20      28      23     71   \n",
       "\n",
       "   Rank by Total  Team/NOC_lbl  \n",
       "0              1            90  \n",
       "1              2            64  \n",
       "2              5            45  \n",
       "3              4            33  \n",
       "4              3            70  "
      ]
     },
     "execution_count": 124,
     "metadata": {},
     "output_type": "execute_result"
    }
   ],
   "source": [
    "medal.head()"
   ]
  },
  {
   "cell_type": "markdown",
   "id": "a01f3acd",
   "metadata": {},
   "source": [
    "### medal\n",
    " * 성능을 올리기 위해 Gold * 1000, Silver * 100, Bronze * 10 컬럼을 만들어 보기 \n",
    "    "
   ]
  },
  {
   "cell_type": "code",
   "execution_count": 125,
   "id": "efa00070",
   "metadata": {},
   "outputs": [],
   "source": [
    "medal['Gold_1000'] = medal['Gold'] * 1000\n",
    "medal['Silver_100'] = medal['Silver'] * 100\n",
    "medal['Bronze_10'] = medal['Bronze'] * 10"
   ]
  },
  {
   "cell_type": "code",
   "execution_count": 126,
   "id": "9b8dbe75",
   "metadata": {},
   "outputs": [
    {
     "data": {
      "text/html": [
       "<div>\n",
       "<style scoped>\n",
       "    .dataframe tbody tr th:only-of-type {\n",
       "        vertical-align: middle;\n",
       "    }\n",
       "\n",
       "    .dataframe tbody tr th {\n",
       "        vertical-align: top;\n",
       "    }\n",
       "\n",
       "    .dataframe thead th {\n",
       "        text-align: right;\n",
       "    }\n",
       "</style>\n",
       "<table border=\"1\" class=\"dataframe\">\n",
       "  <thead>\n",
       "    <tr style=\"text-align: right;\">\n",
       "      <th></th>\n",
       "      <th>Rank</th>\n",
       "      <th>Team/NOC</th>\n",
       "      <th>Gold</th>\n",
       "      <th>Silver</th>\n",
       "      <th>Bronze</th>\n",
       "      <th>Total</th>\n",
       "      <th>Rank by Total</th>\n",
       "      <th>Team/NOC_lbl</th>\n",
       "      <th>Gold_1000</th>\n",
       "      <th>Silver_100</th>\n",
       "      <th>Bronze_10</th>\n",
       "    </tr>\n",
       "  </thead>\n",
       "  <tbody>\n",
       "    <tr>\n",
       "      <th>0</th>\n",
       "      <td>1</td>\n",
       "      <td>United States of America</td>\n",
       "      <td>39</td>\n",
       "      <td>41</td>\n",
       "      <td>33</td>\n",
       "      <td>113</td>\n",
       "      <td>1</td>\n",
       "      <td>90</td>\n",
       "      <td>39000</td>\n",
       "      <td>4100</td>\n",
       "      <td>330</td>\n",
       "    </tr>\n",
       "    <tr>\n",
       "      <th>1</th>\n",
       "      <td>2</td>\n",
       "      <td>People's Republic of China</td>\n",
       "      <td>38</td>\n",
       "      <td>32</td>\n",
       "      <td>18</td>\n",
       "      <td>88</td>\n",
       "      <td>2</td>\n",
       "      <td>64</td>\n",
       "      <td>38000</td>\n",
       "      <td>3200</td>\n",
       "      <td>180</td>\n",
       "    </tr>\n",
       "    <tr>\n",
       "      <th>2</th>\n",
       "      <td>3</td>\n",
       "      <td>Japan</td>\n",
       "      <td>27</td>\n",
       "      <td>14</td>\n",
       "      <td>17</td>\n",
       "      <td>58</td>\n",
       "      <td>5</td>\n",
       "      <td>45</td>\n",
       "      <td>27000</td>\n",
       "      <td>1400</td>\n",
       "      <td>170</td>\n",
       "    </tr>\n",
       "    <tr>\n",
       "      <th>3</th>\n",
       "      <td>4</td>\n",
       "      <td>Great Britain</td>\n",
       "      <td>22</td>\n",
       "      <td>21</td>\n",
       "      <td>22</td>\n",
       "      <td>65</td>\n",
       "      <td>4</td>\n",
       "      <td>33</td>\n",
       "      <td>22000</td>\n",
       "      <td>2100</td>\n",
       "      <td>220</td>\n",
       "    </tr>\n",
       "    <tr>\n",
       "      <th>4</th>\n",
       "      <td>5</td>\n",
       "      <td>ROC</td>\n",
       "      <td>20</td>\n",
       "      <td>28</td>\n",
       "      <td>23</td>\n",
       "      <td>71</td>\n",
       "      <td>3</td>\n",
       "      <td>70</td>\n",
       "      <td>20000</td>\n",
       "      <td>2800</td>\n",
       "      <td>230</td>\n",
       "    </tr>\n",
       "  </tbody>\n",
       "</table>\n",
       "</div>"
      ],
      "text/plain": [
       "   Rank                    Team/NOC  Gold  Silver  Bronze  Total  \\\n",
       "0     1    United States of America    39      41      33    113   \n",
       "1     2  People's Republic of China    38      32      18     88   \n",
       "2     3                       Japan    27      14      17     58   \n",
       "3     4               Great Britain    22      21      22     65   \n",
       "4     5                         ROC    20      28      23     71   \n",
       "\n",
       "   Rank by Total  Team/NOC_lbl  Gold_1000  Silver_100  Bronze_10  \n",
       "0              1            90      39000        4100        330  \n",
       "1              2            64      38000        3200        180  \n",
       "2              5            45      27000        1400        170  \n",
       "3              4            33      22000        2100        220  \n",
       "4              3            70      20000        2800        230  "
      ]
     },
     "execution_count": 126,
     "metadata": {},
     "output_type": "execute_result"
    }
   ],
   "source": [
    "medal.head()"
   ]
  },
  {
   "cell_type": "code",
   "execution_count": 129,
   "id": "49b1f0bf",
   "metadata": {},
   "outputs": [],
   "source": [
    "sel_1000 = ['Gold_1000', \"Silver_100\", \"Bronze_10\" ]\n",
    "\n",
    "X_1000 = medal[sel_1000]\n",
    "y_1000 = medal['Rank']\n",
    "\n",
    "X_1000_train, X_1000_test, y_1000_train, y_1000_test  = train_test_split(X_1000,y_1000,random_state=1)"
   ]
  },
  {
   "cell_type": "code",
   "execution_count": 130,
   "id": "b44aab7e",
   "metadata": {},
   "outputs": [
    {
     "data": {
      "text/plain": [
       "KNeighborsClassifier()"
      ]
     },
     "execution_count": 130,
     "metadata": {},
     "output_type": "execute_result"
    }
   ],
   "source": [
    "knn_1000 = KNeighborsClassifier()\n",
    "knn_1000.fit(X_1000_train,y_1000_train)"
   ]
  },
  {
   "cell_type": "code",
   "execution_count": 131,
   "id": "7a91e9ef",
   "metadata": {},
   "outputs": [
    {
     "name": "stdout",
     "output_type": "stream",
     "text": [
      "[59 77 46 59 86 77 59 48 48 42 42 26 86 26 42 59 12  1 86 77 50 17 86 42]\n"
     ]
    }
   ],
   "source": [
    "print( knn_1000.predict(X_1000_test))"
   ]
  },
  {
   "cell_type": "code",
   "execution_count": 132,
   "id": "c890b42d",
   "metadata": {},
   "outputs": [
    {
     "data": {
      "text/plain": [
       "(0.4057971014492754, 0.25)"
      ]
     },
     "execution_count": 132,
     "metadata": {},
     "output_type": "execute_result"
    }
   ],
   "source": [
    "knn_1000_tr = knn_1000.score(X_1000_train, y_1000_train)\n",
    "knn_1000_test = knn_1000.score(X_1000_test, y_1000_test)\n",
    "knn_1000_tr, knn_1000_test\n"
   ]
  },
  {
   "cell_type": "code",
   "execution_count": 133,
   "id": "101fdfa8",
   "metadata": {},
   "outputs": [
    {
     "name": "stdout",
     "output_type": "stream",
     "text": [
      "훈련 데이터셋 정확도 : 0.41\n",
      "테스트 데이터 셋 정확도 : 0.25\n"
     ]
    }
   ],
   "source": [
    "print(\"훈련 데이터셋 정확도 : {:.2f}\".format(knn_1000_tr))\n",
    "print(\"테스트 데이터 셋 정확도 : {:.2f}\".format(knn_1000_test))"
   ]
  },
  {
   "cell_type": "markdown",
   "id": "a26a1d34",
   "metadata": {},
   "source": [
    "* 가중치에 따른 성능 변화가 없음"
   ]
  },
  {
   "cell_type": "markdown",
   "id": "4409e06d",
   "metadata": {},
   "source": [
    "### Total\n",
    " * Total 컬럼추가하였을 때 성능 변화"
   ]
  },
  {
   "cell_type": "code",
   "execution_count": 150,
   "id": "8a6c461b",
   "metadata": {},
   "outputs": [],
   "source": [
    "sel_t = ['Gold', \"Silver\", \"Bronze\" ,\"Total\"]\n",
    "\n",
    "X_t = medal[sel_t]\n",
    "y_t = medal['Rank']\n",
    "\n",
    "X_t_train, X_t_test, y_t_train,y_t_test=train_test_split(X_t,y_t,random_state=1)"
   ]
  },
  {
   "cell_type": "code",
   "execution_count": 151,
   "id": "b626ebd0",
   "metadata": {},
   "outputs": [
    {
     "data": {
      "text/plain": [
       "KNeighborsClassifier()"
      ]
     },
     "execution_count": 151,
     "metadata": {},
     "output_type": "execute_result"
    }
   ],
   "source": [
    "knn_t = KNeighborsClassifier()\n",
    "knn_t.fit(X_t_train,y_t_train)"
   ]
  },
  {
   "cell_type": "code",
   "execution_count": 152,
   "id": "d9bbcacb",
   "metadata": {},
   "outputs": [
    {
     "name": "stdout",
     "output_type": "stream",
     "text": [
      "[59 86 26 72 86 77 63 29 36 59 59 27 86 21 59 72 12  4 86 86 29 21 86 50]\n"
     ]
    }
   ],
   "source": [
    "print( knn_t.predict(X_t_test))"
   ]
  },
  {
   "cell_type": "code",
   "execution_count": 153,
   "id": "d181e122",
   "metadata": {},
   "outputs": [
    {
     "data": {
      "text/plain": [
       "(0.4057971014492754, 0.2916666666666667)"
      ]
     },
     "execution_count": 153,
     "metadata": {},
     "output_type": "execute_result"
    }
   ],
   "source": [
    "knn_t_tr = knn_t.score(X_t_train, y_t_train)\n",
    "knn_t_test = knn_t.score(X_t_test, y_t_test)\n",
    "knn_t_tr, knn_t_test"
   ]
  },
  {
   "cell_type": "code",
   "execution_count": 154,
   "id": "be68c7dd",
   "metadata": {},
   "outputs": [
    {
     "name": "stdout",
     "output_type": "stream",
     "text": [
      "훈련 데이터셋 정확도 : 0.41\n",
      "테스트 데이터 셋 정확도 : 0.29\n"
     ]
    }
   ],
   "source": [
    "print(\"훈련 데이터셋 정확도 : {:.2f}\".format(knn_t_tr))\n",
    "print(\"테스트 데이터 셋 정확도 : {:.2f}\".format(knn_t_test))"
   ]
  },
  {
   "cell_type": "markdown",
   "id": "eed90d80",
   "metadata": {},
   "source": [
    "* 테스트 셋의 정확도가 미세하게 높아져서 훈련 데이터셋과 테스트 데이터 셋의 정확도 차이가 미비하게 줄어듦\n",
    "    * 성능이 약간 상승"
   ]
  },
  {
   "cell_type": "markdown",
   "id": "1273836c",
   "metadata": {},
   "source": [
    "## 다양한 모델 비교"
   ]
  },
  {
   "cell_type": "code",
   "execution_count": 155,
   "id": "4a96b381",
   "metadata": {},
   "outputs": [],
   "source": [
    "from sklearn.neighbors import KNeighborsClassifier\n",
    "from sklearn.linear_model import LogisticRegression\n",
    "from sklearn.svm import LinearSVC\n",
    "from sklearn.ensemble import RandomForestClassifier\n",
    "from sklearn.tree import DecisionTreeClassifier\n",
    "from sklearn.ensemble import GradientBoostingClassifier"
   ]
  },
  {
   "cell_type": "code",
   "execution_count": 156,
   "id": "c7fc1139",
   "metadata": {},
   "outputs": [],
   "source": [
    "model_score_n = []\n",
    "model_mse_n = []\n",
    "model_sub_n = []"
   ]
  },
  {
   "cell_type": "code",
   "execution_count": 157,
   "id": "5a4c51cc",
   "metadata": {},
   "outputs": [],
   "source": [
    "sel = ['Gold', \"Silver\", \"Bronze\" ,\"Total\"]\n",
    "\n",
    "X = medal[sel]\n",
    "y = medal['Rank']\n",
    "\n",
    "X_train, X_test, y_train, y_test = train_test_split(X,y,\n",
    "                                                    test_size = 0.1,\n",
    "                                                   random_state=1)"
   ]
  },
  {
   "cell_type": "code",
   "execution_count": 158,
   "id": "b300c7ca",
   "metadata": {},
   "outputs": [
    {
     "name": "stdout",
     "output_type": "stream",
     "text": [
      "KNN 모델 학습용 정확도 :  1.0\n",
      "KNN 모델 테스트용 정확도:  0.7\n",
      "MSE : 29.7\n",
      "RMSE :5.450\n",
      "오차 :0.300 \n"
     ]
    }
   ],
   "source": [
    "model1 = KNeighborsClassifier(n_neighbors=1).fit(X_train,y_train)\n",
    "pred = model1.predict(X_test)\n",
    "\n",
    "model1_tr_score = model1.score(X_train,y_train)\n",
    "model1_score = model1.score(X_test,y_test)\n",
    "\n",
    "print(\"KNN 모델 학습용 정확도 : \", model1_tr_score)\n",
    "print(\"KNN 모델 테스트용 정확도: \", model1_score)\n",
    "\n",
    "mse_val1 = ( (pred - y_test) **2).sum() / len(pred)\n",
    "print(\"MSE :\", mse_val1)\n",
    "print(\"RMSE :{:.3f}\". format(mse_val1 **0.5))\n",
    "\n",
    "sub1 = model1_tr_score - model1_score\n",
    "print(\"오차 :{:.3f} \".format(sub1))\n",
    "\n",
    "model_score_n.append(model1_score)\n",
    "model_mse_n.append(mse_val1)\n",
    "model_sub_n.append(sub1)\n"
   ]
  },
  {
   "cell_type": "code",
   "execution_count": 159,
   "id": "4d18d1b0",
   "metadata": {},
   "outputs": [
    {
     "name": "stdout",
     "output_type": "stream",
     "text": [
      "Logistic 모델 학습용 정확도 :0.578 \n",
      "Logistic 테스트용 정확도:0.200 \n",
      "MSE : 314.9\n",
      "RMSE :17.745\n",
      "오차 :0.378 \n"
     ]
    },
    {
     "name": "stderr",
     "output_type": "stream",
     "text": [
      "C:\\Users\\hingu\\anaconda3\\lib\\site-packages\\sklearn\\linear_model\\_logistic.py:763: ConvergenceWarning: lbfgs failed to converge (status=1):\n",
      "STOP: TOTAL NO. of ITERATIONS REACHED LIMIT.\n",
      "\n",
      "Increase the number of iterations (max_iter) or scale the data as shown in:\n",
      "    https://scikit-learn.org/stable/modules/preprocessing.html\n",
      "Please also refer to the documentation for alternative solver options:\n",
      "    https://scikit-learn.org/stable/modules/linear_model.html#logistic-regression\n",
      "  n_iter_i = _check_optimize_result(\n"
     ]
    }
   ],
   "source": [
    "model2 = LogisticRegression().fit(X_train, y_train)\n",
    "pred2 = model2.predict(X_test)\n",
    "\n",
    "model2_tr_score = model2.score(X_train,y_train)\n",
    "model2_score = model2.score(X_test,y_test)\n",
    "\n",
    "print(\"Logistic 모델 학습용 정확도 :{:.3f} \".format(model2_tr_score))\n",
    "print(\"Logistic 테스트용 정확도:{:.3f} \".format(model2_score))\n",
    "\n",
    "mse_val2 = ( (pred2 - y_test) **2).sum() / len(pred2)\n",
    "print(\"MSE :\", mse_val2)\n",
    "print(\"RMSE :{:.3f}\". format(mse_val2 **0.5))\n",
    "\n",
    "sub2 = model2_tr_score - model2_score\n",
    "print(\"오차 :{:.3f} \".format(sub2))\n",
    "\n",
    "model_score_n.append(model2_score)\n",
    "model_mse_n.append(mse_val2)\n",
    "model_sub_n.append(sub2)\n"
   ]
  },
  {
   "cell_type": "code",
   "execution_count": 160,
   "id": "f6611818",
   "metadata": {},
   "outputs": [
    {
     "name": "stdout",
     "output_type": "stream",
     "text": [
      "SVC 모델 학습용 정확도 :0.422 \n",
      "SVC 테스트용 정확도:0.500 \n",
      "MSE : 362.0\n",
      "RMSE :19.026\n",
      "오차 :-0.078 \n"
     ]
    },
    {
     "name": "stderr",
     "output_type": "stream",
     "text": [
      "C:\\Users\\hingu\\anaconda3\\lib\\site-packages\\sklearn\\svm\\_base.py:985: ConvergenceWarning: Liblinear failed to converge, increase the number of iterations.\n",
      "  warnings.warn(\"Liblinear failed to converge, increase \"\n"
     ]
    }
   ],
   "source": [
    "model3 = LinearSVC().fit(X_train, y_train)\n",
    "pred3 = model3.predict(X_test)\n",
    "\n",
    "model3_tr_score = model3.score(X_train,y_train)\n",
    "model3_score = model3.score(X_test,y_test)\n",
    "\n",
    "print(\"SVC 모델 학습용 정확도 :{:.3f} \".format(model3_tr_score))\n",
    "print(\"SVC 테스트용 정확도:{:.3f} \".format(model3_score))\n",
    "\n",
    "mse_val3 = ( (pred3 - y_test) **2).sum() / len(pred3)\n",
    "print(\"MSE :\", mse_val3)\n",
    "print(\"RMSE :{:.3f}\". format(mse_val3 **0.5))\n",
    "\n",
    "sub3 = model3_tr_score - model3_score\n",
    "print(\"오차 :{:.3f} \".format(sub3))\n",
    "\n",
    "model_score_n.append(model3_score)\n",
    "model_mse_n.append(mse_val3)\n",
    "model_sub_n.append(sub3)\n",
    "\n"
   ]
  },
  {
   "cell_type": "code",
   "execution_count": 161,
   "id": "6cd3e6a4",
   "metadata": {},
   "outputs": [
    {
     "name": "stdout",
     "output_type": "stream",
     "text": [
      "RF 모델 학습용 정확도 :1.000 \n",
      "RF 테스트용 정확도:0.700 \n",
      "MSE : 1.8\n",
      "RMSE :1.342\n",
      "오차 :0.300 \n"
     ]
    }
   ],
   "source": [
    "model4 = RandomForestClassifier().fit(X_train, y_train)\n",
    "pred4 = model4.predict(X_test)\n",
    "\n",
    "model4_tr_score = model4.score(X_train,y_train)\n",
    "model4_score = model4.score(X_test,y_test)\n",
    "\n",
    "print(\"RF 모델 학습용 정확도 :{:.3f} \".format(model4_tr_score))\n",
    "print(\"RF 테스트용 정확도:{:.3f} \".format(model4_score))\n",
    "\n",
    "mse_val4 = ( (pred4 - y_test) **2).sum() / len(pred4)\n",
    "print(\"MSE :\", mse_val4)\n",
    "print(\"RMSE :{:.3f}\". format(mse_val4 **0.5))\n",
    "\n",
    "sub4 = model4_tr_score - model4_score\n",
    "print(\"오차 :{:.3f} \".format(sub4))\n",
    "\n",
    "model_score_n.append(model4_score)\n",
    "model_mse_n.append(mse_val4)\n",
    "model_sub_n.append(sub4)\n"
   ]
  },
  {
   "cell_type": "code",
   "execution_count": 162,
   "id": "8021ca95",
   "metadata": {},
   "outputs": [
    {
     "name": "stdout",
     "output_type": "stream",
     "text": [
      "D.tree 모델 학습용 정확도 :1.000 \n",
      "D.tree 테스트용 정확도:0.700 \n",
      "MSE : 1.4\n",
      "RMSE :1.183\n",
      "오차 :0.300 \n"
     ]
    }
   ],
   "source": [
    "model5 = DecisionTreeClassifier().fit(X_train,y_train)\n",
    "pred5 = model5.predict(X_test)\n",
    "\n",
    "model5_tr_score = model5.score(X_train,y_train)\n",
    "model5_score = model5.score(X_test, y_test)\n",
    "\n",
    "print(\"D.tree 모델 학습용 정확도 :{:.3f} \".format(model5_tr_score))\n",
    "print(\"D.tree 테스트용 정확도:{:.3f} \".format(model5_score))\n",
    "\n",
    "mse_val5 = ( (pred5 - y_test) **2).sum() / len(pred5)\n",
    "print(\"MSE :\", mse_val5)\n",
    "print(\"RMSE :{:.3f}\". format(mse_val5 **0.5))\n",
    "\n",
    "sub5 = model5_tr_score - model5_score\n",
    "print(\"오차 :{:.3f} \".format(sub5))\n",
    "\n",
    "model_score_n.append(model5_score)\n",
    "model_mse_n.append(mse_val5)\n",
    "model_sub_n.append(sub5)\n"
   ]
  },
  {
   "cell_type": "code",
   "execution_count": 163,
   "id": "4f0b60dc",
   "metadata": {},
   "outputs": [
    {
     "name": "stdout",
     "output_type": "stream",
     "text": [
      "D.tree 모델 학습용 정확도 :1.000 \n",
      "D.tree 테스트용 정확도:0.700 \n",
      "MSE : 40.2\n",
      "RMSE :6.340\n",
      "오차 :0.300 \n"
     ]
    }
   ],
   "source": [
    "model6 = GradientBoostingClassifier().fit(X_train, y_train)\n",
    "pred6 = model6.predict(X_test)\n",
    "\n",
    "model6_tr_score = model6.score(X_train,y_train)\n",
    "model6_score = model6.score(X_test, y_test)\n",
    "\n",
    "print(\"D.tree 모델 학습용 정확도 :{:.3f} \".format(model6_tr_score))\n",
    "print(\"D.tree 테스트용 정확도:{:.3f} \".format(model6_score))\n",
    "\n",
    "mse_val6 = ( (pred6 - y_test) **2).sum() / len(pred6)\n",
    "print(\"MSE :\", mse_val6)\n",
    "print(\"RMSE :{:.3f}\". format(mse_val6 **0.5))\n",
    "\n",
    "sub6 = model6_tr_score - model6_score\n",
    "print(\"오차 :{:.3f} \".format(sub6))\n",
    "\n",
    "model_score_n.append(model6_score)\n",
    "model_mse_n.append(mse_val6)\n",
    "model_sub_n.append(sub6)"
   ]
  },
  {
   "cell_type": "code",
   "execution_count": 164,
   "id": "79181547",
   "metadata": {},
   "outputs": [],
   "source": [
    "model_info = [\"KNN 모델\", \"Logistic 모델\", \"SVC 모델\", \"RF 모델\", \n",
    "              \"D.tree모델\", \"Gradient 모델\"]\n",
    "dic_dict = {\"모델\" : model_info, \"정확도\": model_score_n, \"오차\":model_sub_n\n",
    "            ,\"MSE\":model_mse_n}\n",
    "dat = pd.DataFrame(dic_dict)"
   ]
  },
  {
   "cell_type": "code",
   "execution_count": 88,
   "id": "82227698",
   "metadata": {},
   "outputs": [
    {
     "data": {
      "text/html": [
       "<div>\n",
       "<style scoped>\n",
       "    .dataframe tbody tr th:only-of-type {\n",
       "        vertical-align: middle;\n",
       "    }\n",
       "\n",
       "    .dataframe tbody tr th {\n",
       "        vertical-align: top;\n",
       "    }\n",
       "\n",
       "    .dataframe thead th {\n",
       "        text-align: right;\n",
       "    }\n",
       "</style>\n",
       "<table border=\"1\" class=\"dataframe\">\n",
       "  <thead>\n",
       "    <tr style=\"text-align: right;\">\n",
       "      <th></th>\n",
       "      <th>모델</th>\n",
       "      <th>정확도</th>\n",
       "      <th>오차</th>\n",
       "      <th>MSE</th>\n",
       "    </tr>\n",
       "  </thead>\n",
       "  <tbody>\n",
       "    <tr>\n",
       "      <th>0</th>\n",
       "      <td>KNN 모델</td>\n",
       "      <td>0.7</td>\n",
       "      <td>0.300000</td>\n",
       "      <td>29.7</td>\n",
       "    </tr>\n",
       "    <tr>\n",
       "      <th>1</th>\n",
       "      <td>Logistic 모델</td>\n",
       "      <td>0.2</td>\n",
       "      <td>0.378313</td>\n",
       "      <td>314.9</td>\n",
       "    </tr>\n",
       "    <tr>\n",
       "      <th>2</th>\n",
       "      <td>SVC 모델</td>\n",
       "      <td>0.5</td>\n",
       "      <td>-0.078313</td>\n",
       "      <td>151.9</td>\n",
       "    </tr>\n",
       "    <tr>\n",
       "      <th>3</th>\n",
       "      <td>RF 모델</td>\n",
       "      <td>0.7</td>\n",
       "      <td>0.300000</td>\n",
       "      <td>1.8</td>\n",
       "    </tr>\n",
       "    <tr>\n",
       "      <th>4</th>\n",
       "      <td>D.tree모델</td>\n",
       "      <td>0.7</td>\n",
       "      <td>0.300000</td>\n",
       "      <td>56.3</td>\n",
       "    </tr>\n",
       "    <tr>\n",
       "      <th>5</th>\n",
       "      <td>Gradient 모델</td>\n",
       "      <td>0.7</td>\n",
       "      <td>0.300000</td>\n",
       "      <td>18.2</td>\n",
       "    </tr>\n",
       "  </tbody>\n",
       "</table>\n",
       "</div>"
      ],
      "text/plain": [
       "            모델  정확도        오차    MSE\n",
       "0       KNN 모델  0.7  0.300000   29.7\n",
       "1  Logistic 모델  0.2  0.378313  314.9\n",
       "2       SVC 모델  0.5 -0.078313  151.9\n",
       "3        RF 모델  0.7  0.300000    1.8\n",
       "4     D.tree모델  0.7  0.300000   56.3\n",
       "5  Gradient 모델  0.7  0.300000   18.2"
      ]
     },
     "execution_count": 88,
     "metadata": {},
     "output_type": "execute_result"
    }
   ],
   "source": [
    "dat"
   ]
  },
  {
   "cell_type": "code",
   "execution_count": 99,
   "id": "5732e300",
   "metadata": {},
   "outputs": [],
   "source": [
    "import matplotlib\n",
    "from matplotlib import font_manager, rc\n",
    "import platform\n",
    "\n",
    "if platform.system() == 'Windows':\n",
    "# 윈도우인 경우\n",
    "    font_name = font_manager.FontProperties(fname=\"c:/Windows/Fonts/malgun.ttf\").get_name()\n",
    "    rc('font', family=font_name)\n",
    "else:    \n",
    "# Mac 인 경우\n",
    "    rc('font', family='AppleGothic')\n",
    "    \n",
    "matplotlib.rcParams['axes.unicode_minus'] = False   \n",
    "\n",
    "\n"
   ]
  },
  {
   "cell_type": "code",
   "execution_count": 100,
   "id": "53d52431",
   "metadata": {},
   "outputs": [
    {
     "data": {
      "image/png": "[encoded data removed]",
      "text/plain": [
       "<Figure size 432x288 with 1 Axes>"
      ]
     },
     "metadata": {
      "needs_background": "light"
     },
     "output_type": "display_data"
    }
   ],
   "source": [
    "sns.barplot(x=dat[\"모델\"], y=dat[\"정확도\"])\n",
    "plt.title(\"여러가지 모델 정확도 비교\")\n",
    "plt.show()"
   ]
  },
  {
   "cell_type": "code",
   "execution_count": 101,
   "id": "fadeaa09",
   "metadata": {},
   "outputs": [
    {
     "data": {
      "image/png": "[encoded data removed]",
      "text/plain": [
       "<Figure size 432x288 with 1 Axes>"
      ]
     },
     "metadata": {
      "needs_background": "light"
     },
     "output_type": "display_data"
    }
   ],
   "source": [
    "sns.barplot(x=dat[\"모델\"], y=dat[\"MSE\"])\n",
    "plt.title(\"여러가지 모델 MSE 비교\")\n",
    "plt.show()"
   ]
  },
  {
   "cell_type": "markdown",
   "id": "3b9861cd",
   "metadata": {},
   "source": [
    "\n",
    "## 결론\n",
    "[knn 모델]\n",
    "* k값의 따른 정확도는 k=3일때 학습용과 테스트용의 정확도차이가 가장 적다.\n",
    "* test size를 조정하여 구한 학습용과 테스트용의 최적비율은 학습용9 : 테스트용1 이다.\n",
    "* 성능 개선을 위해 금/은/동 메달에 가중치값을 달리하였을 때, 성능이 개선되지 않았다.\n",
    "* 반면, 피쳐에 전체 매달 개수를 추가하였을 때 약간의 성능이 개선되었다.\n",
    "\n",
    "[여러가지 모델 비교]\n",
    "* KNeighborsClassifier, LogisticRegression, LinearSVC, RandomForestClassifier, DecisionTreeClassifier, GradientBoostingClassifier 모델을 비교하였을 때, logistic 모델과 SVC 모델을 제외한 모든 모델들의 정확도가 0.7로 가장 높았다.\n",
    "* MSE가 가장 낮게 나온 모델은 RandomForestClassifier 모델로 수치는 1.8이다.\n",
    "* 따라서 가장 최적의 모델은 RandomForestClassifier이다."
   ]
  },
  {
   "cell_type": "code",
   "execution_count": null,
   "id": "4dfa6ad0",
   "metadata": {},
   "outputs": [],
   "source": []
  }
 ],
 "metadata": {
  "kernelspec": {
   "display_name": "Python 3",
   "language": "python",
   "name": "python3"
  },
  "language_info": {
   "codemirror_mode": {
    "name": "ipython",
    "version": 3
   },
   "file_extension": ".py",
   "mimetype": "text/x-python",
   "name": "python",
   "nbconvert_exporter": "python",
   "pygments_lexer": "ipython3",
   "version": "3.8.8"
  }
 },
 "nbformat": 4,
 "nbformat_minor": 5
}
