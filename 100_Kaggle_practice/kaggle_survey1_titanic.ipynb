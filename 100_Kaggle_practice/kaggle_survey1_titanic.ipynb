{
 "cells": [
  {
   "cell_type": "code",
   "execution_count": 1,
   "metadata": {
    "_cell_guid": "b1076dfc-b9ad-4769-8c92-a6c4dae69d19",
    "_uuid": "8f2839f25d086af736a60e9eeb907d3b93b6e0e5",
    "execution": {
     "iopub.execute_input": "2021-10-21T04:28:33.673129Z",
     "iopub.status.busy": "2021-10-21T04:28:33.672629Z",
     "iopub.status.idle": "2021-10-21T04:28:33.680365Z",
     "shell.execute_reply": "2021-10-21T04:28:33.679834Z",
     "shell.execute_reply.started": "2021-10-21T04:28:33.673086Z"
    }
   },
   "outputs": [],
   "source": [
    "\n",
    "import numpy as np # linear algebra\n",
    "import pandas as pd # data processing, CSV file I/O (e.g. pd.read_csv)\n",
    "\n",
    "import os\n",
    "for dirname, _, filenames in os.walk('/kaggle/input'):\n",
    "    for filename in filenames:\n",
    "        print(os.path.join(dirname, filename))"
   ]
  },
  {
   "cell_type": "code",
   "execution_count": 2,
   "metadata": {
    "execution": {
     "iopub.execute_input": "2021-10-21T04:28:33.681988Z",
     "iopub.status.busy": "2021-10-21T04:28:33.681592Z",
     "iopub.status.idle": "2021-10-21T04:28:34.780884Z",
     "shell.execute_reply": "2021-10-21T04:28:34.780212Z",
     "shell.execute_reply.started": "2021-10-21T04:28:33.681960Z"
    }
   },
   "outputs": [],
   "source": [
    "# imports \n",
    "import seaborn as sns\n",
    "from sklearn.metrics import accuracy_score\n",
    "from sklearn import preprocessing\n",
    "from sklearn.model_selection import train_test_split\n",
    "from sklearn.model_selection import cross_val_score\n",
    "\n",
    "from sklearn.ensemble import RandomForestClassifier\n",
    "from sklearn.ensemble import GradientBoostingClassifier\n",
    "from sklearn.linear_model import LogisticRegression\n",
    "\n",
    "#확률적 경사하강법을 이용한 선형 분류모델\n",
    "from sklearn.linear_model import SGDClassifier \n",
    "#svm 서포트벡터머신 (svc:분류 / svr: 회귀)\n",
    "from sklearn.svm import SVC"
   ]
  },
  {
   "cell_type": "markdown",
   "metadata": {},
   "source": [
    "First we are going to charge the data and take a peek to guess what is the situation\n"
   ]
  },
  {
   "cell_type": "code",
   "execution_count": 4,
   "metadata": {
    "execution": {
     "iopub.execute_input": "2021-10-21T04:28:34.782314Z",
     "iopub.status.busy": "2021-10-21T04:28:34.782010Z",
     "iopub.status.idle": "2021-10-21T04:28:34.810434Z",
     "shell.execute_reply": "2021-10-21T04:28:34.809927Z",
     "shell.execute_reply.started": "2021-10-21T04:28:34.782278Z"
    }
   },
   "outputs": [],
   "source": [
    "train = pd.read_csv(\"train.csv\")\n",
    "test = pd.read_csv('test.csv')"
   ]
  },
  {
   "cell_type": "code",
   "execution_count": 5,
   "metadata": {
    "execution": {
     "iopub.execute_input": "2021-10-21T04:28:34.811889Z",
     "iopub.status.busy": "2021-10-21T04:28:34.811405Z",
     "iopub.status.idle": "2021-10-21T04:28:34.832778Z",
     "shell.execute_reply": "2021-10-21T04:28:34.832101Z",
     "shell.execute_reply.started": "2021-10-21T04:28:34.811854Z"
    },
    "scrolled": true
   },
   "outputs": [
    {
     "data": {
      "text/html": [
       "<div>\n",
       "<style scoped>\n",
       "    .dataframe tbody tr th:only-of-type {\n",
       "        vertical-align: middle;\n",
       "    }\n",
       "\n",
       "    .dataframe tbody tr th {\n",
       "        vertical-align: top;\n",
       "    }\n",
       "\n",
       "    .dataframe thead th {\n",
       "        text-align: right;\n",
       "    }\n",
       "</style>\n",
       "<table border=\"1\" class=\"dataframe\">\n",
       "  <thead>\n",
       "    <tr style=\"text-align: right;\">\n",
       "      <th></th>\n",
       "      <th>PassengerId</th>\n",
       "      <th>Survived</th>\n",
       "      <th>Pclass</th>\n",
       "      <th>Name</th>\n",
       "      <th>Sex</th>\n",
       "      <th>Age</th>\n",
       "      <th>SibSp</th>\n",
       "      <th>Parch</th>\n",
       "      <th>Ticket</th>\n",
       "      <th>Fare</th>\n",
       "      <th>Cabin</th>\n",
       "      <th>Embarked</th>\n",
       "    </tr>\n",
       "  </thead>\n",
       "  <tbody>\n",
       "    <tr>\n",
       "      <th>0</th>\n",
       "      <td>1</td>\n",
       "      <td>0</td>\n",
       "      <td>3</td>\n",
       "      <td>Braund, Mr. Owen Harris</td>\n",
       "      <td>male</td>\n",
       "      <td>22.0</td>\n",
       "      <td>1</td>\n",
       "      <td>0</td>\n",
       "      <td>A/5 21171</td>\n",
       "      <td>7.2500</td>\n",
       "      <td>NaN</td>\n",
       "      <td>S</td>\n",
       "    </tr>\n",
       "    <tr>\n",
       "      <th>1</th>\n",
       "      <td>2</td>\n",
       "      <td>1</td>\n",
       "      <td>1</td>\n",
       "      <td>Cumings, Mrs. John Bradley (Florence Briggs Th...</td>\n",
       "      <td>female</td>\n",
       "      <td>38.0</td>\n",
       "      <td>1</td>\n",
       "      <td>0</td>\n",
       "      <td>PC 17599</td>\n",
       "      <td>71.2833</td>\n",
       "      <td>C85</td>\n",
       "      <td>C</td>\n",
       "    </tr>\n",
       "    <tr>\n",
       "      <th>2</th>\n",
       "      <td>3</td>\n",
       "      <td>1</td>\n",
       "      <td>3</td>\n",
       "      <td>Heikkinen, Miss. Laina</td>\n",
       "      <td>female</td>\n",
       "      <td>26.0</td>\n",
       "      <td>0</td>\n",
       "      <td>0</td>\n",
       "      <td>STON/O2. 3101282</td>\n",
       "      <td>7.9250</td>\n",
       "      <td>NaN</td>\n",
       "      <td>S</td>\n",
       "    </tr>\n",
       "    <tr>\n",
       "      <th>3</th>\n",
       "      <td>4</td>\n",
       "      <td>1</td>\n",
       "      <td>1</td>\n",
       "      <td>Futrelle, Mrs. Jacques Heath (Lily May Peel)</td>\n",
       "      <td>female</td>\n",
       "      <td>35.0</td>\n",
       "      <td>1</td>\n",
       "      <td>0</td>\n",
       "      <td>113803</td>\n",
       "      <td>53.1000</td>\n",
       "      <td>C123</td>\n",
       "      <td>S</td>\n",
       "    </tr>\n",
       "    <tr>\n",
       "      <th>4</th>\n",
       "      <td>5</td>\n",
       "      <td>0</td>\n",
       "      <td>3</td>\n",
       "      <td>Allen, Mr. William Henry</td>\n",
       "      <td>male</td>\n",
       "      <td>35.0</td>\n",
       "      <td>0</td>\n",
       "      <td>0</td>\n",
       "      <td>373450</td>\n",
       "      <td>8.0500</td>\n",
       "      <td>NaN</td>\n",
       "      <td>S</td>\n",
       "    </tr>\n",
       "  </tbody>\n",
       "</table>\n",
       "</div>"
      ],
      "text/plain": [
       "   PassengerId  Survived  Pclass  \\\n",
       "0            1         0       3   \n",
       "1            2         1       1   \n",
       "2            3         1       3   \n",
       "3            4         1       1   \n",
       "4            5         0       3   \n",
       "\n",
       "                                                Name     Sex   Age  SibSp  \\\n",
       "0                            Braund, Mr. Owen Harris    male  22.0      1   \n",
       "1  Cumings, Mrs. John Bradley (Florence Briggs Th...  female  38.0      1   \n",
       "2                             Heikkinen, Miss. Laina  female  26.0      0   \n",
       "3       Futrelle, Mrs. Jacques Heath (Lily May Peel)  female  35.0      1   \n",
       "4                           Allen, Mr. William Henry    male  35.0      0   \n",
       "\n",
       "   Parch            Ticket     Fare Cabin Embarked  \n",
       "0      0         A/5 21171   7.2500   NaN        S  \n",
       "1      0          PC 17599  71.2833   C85        C  \n",
       "2      0  STON/O2. 3101282   7.9250   NaN        S  \n",
       "3      0            113803  53.1000  C123        S  \n",
       "4      0            373450   8.0500   NaN        S  "
      ]
     },
     "execution_count": 5,
     "metadata": {},
     "output_type": "execute_result"
    }
   ],
   "source": [
    "train.head(5)"
   ]
  },
  {
   "cell_type": "code",
   "execution_count": 6,
   "metadata": {
    "execution": {
     "iopub.execute_input": "2021-10-21T04:29:11.145137Z",
     "iopub.status.busy": "2021-10-21T04:29:11.144229Z",
     "iopub.status.idle": "2021-10-21T04:29:11.162771Z",
     "shell.execute_reply": "2021-10-21T04:29:11.161797Z",
     "shell.execute_reply.started": "2021-10-21T04:29:11.145098Z"
    }
   },
   "outputs": [
    {
     "name": "stdout",
     "output_type": "stream",
     "text": [
      "<class 'pandas.core.frame.DataFrame'>\n",
      "RangeIndex: 891 entries, 0 to 890\n",
      "Data columns (total 12 columns):\n",
      " #   Column       Non-Null Count  Dtype  \n",
      "---  ------       --------------  -----  \n",
      " 0   PassengerId  891 non-null    int64  \n",
      " 1   Survived     891 non-null    int64  \n",
      " 2   Pclass       891 non-null    int64  \n",
      " 3   Name         891 non-null    object \n",
      " 4   Sex          891 non-null    object \n",
      " 5   Age          714 non-null    float64\n",
      " 6   SibSp        891 non-null    int64  \n",
      " 7   Parch        891 non-null    int64  \n",
      " 8   Ticket       891 non-null    object \n",
      " 9   Fare         891 non-null    float64\n",
      " 10  Cabin        204 non-null    object \n",
      " 11  Embarked     889 non-null    object \n",
      "dtypes: float64(2), int64(5), object(5)\n",
      "memory usage: 83.7+ KB\n",
      "----------------------------------------\n",
      "\"NA 비율\n",
      "----------------------------------------\n",
      "Cabin          77.104377\n",
      "Age            19.865320\n",
      "Embarked        0.224467\n",
      "PassengerId     0.000000\n",
      "Survived        0.000000\n",
      "Pclass          0.000000\n",
      "Name            0.000000\n",
      "Sex             0.000000\n",
      "SibSp           0.000000\n",
      "Parch           0.000000\n",
      "Ticket          0.000000\n",
      "Fare            0.000000\n",
      "dtype: float64\n",
      "----------------------------------------\n",
      "duplications 및 other useful info에 대한 고유값\n",
      "----------------------------------------\n",
      "Survived         2\n",
      "Sex              2\n",
      "Pclass           3\n",
      "Embarked         3\n",
      "SibSp            7\n",
      "Parch            7\n",
      "Age             88\n",
      "Cabin          147\n",
      "Fare           248\n",
      "Ticket         681\n",
      "PassengerId    891\n",
      "Name           891\n",
      "dtype: int64\n"
     ]
    }
   ],
   "source": [
    "#Some info about the data\n",
    "train.info()\n",
    "\n",
    "print('----------------------------------------')\n",
    "print('\"NA 비율')\n",
    "print('----------------------------------------')\n",
    "p = (train.isna().sum()/len(train)*100).sort_values(ascending=False)\n",
    "print(p)\n",
    "print('----------------------------------------')\n",
    "print('duplications 및 other useful info에 대한 고유값')\n",
    "print('----------------------------------------')\n",
    "u = train.nunique().sort_values()\n",
    "print(u)"
   ]
  },
  {
   "cell_type": "markdown",
   "metadata": {
    "execution": {
     "iopub.execute_input": "2021-10-18T10:08:19.190918Z",
     "iopub.status.busy": "2021-10-18T10:08:19.1899Z",
     "iopub.status.idle": "2021-10-18T10:08:19.198474Z",
     "shell.execute_reply": "2021-10-18T10:08:19.197699Z",
     "shell.execute_reply.started": "2021-10-18T10:08:19.190877Z"
    }
   },
   "source": [
    "\n",
    "\n",
    "#### Missing values:\n",
    "* Case 1: **'Cabin'** 77% of missing values. 데이터가 3/4이 누락되어 있는 데이터를 모방할 수도 있기 때문에 이 데이터는 삭제한다.\n",
    "\n",
    "* Case 2: **'Age'** with 20% of missing values. \n",
    "\n",
    "* Case 3: **'Embarked'** with 0.2% of missing values. \n",
    "\n",
    "\n",
    "#### Categorical values\n",
    "인코딩하거나 삭제해야하는 범주형 변수\n",
    "\n",
    "* Case 1: **'Sex'** 값이 2개뿐이면 레이블 인코더를 할 수 있다.\n",
    "\n",
    "* Case 2: **'Name'** 유용한 정보를 제공하지 않으므로 drop한다.\n",
    "\n",
    "* Case 3: **'Ticket'** 유용한 정보를 제공하지 않으므로 drop한다.\n",
    "\n",
    "* Case 4: **'Cabin'** drop by missing 70% of values, 결측치가 너무 많이 나옴.\n",
    "\n",
    "* Case 5: **'Embarked'** has 3 possible values. "
   ]
  },
  {
   "cell_type": "code",
   "execution_count": 7,
   "metadata": {
    "execution": {
     "iopub.execute_input": "2021-10-21T04:29:24.500532Z",
     "iopub.status.busy": "2021-10-21T04:29:24.499791Z",
     "iopub.status.idle": "2021-10-21T04:29:24.506827Z",
     "shell.execute_reply": "2021-10-21T04:29:24.506282Z",
     "shell.execute_reply.started": "2021-10-21T04:29:24.500496Z"
    }
   },
   "outputs": [
    {
     "data": {
      "text/plain": [
       "S    644\n",
       "C    168\n",
       "Q     77\n",
       "Name: Embarked, dtype: int64"
      ]
     },
     "execution_count": 7,
     "metadata": {},
     "output_type": "execute_result"
    }
   ],
   "source": [
    "# Embarked 메뉴얼 repacement 수치 확인\n",
    "train['Embarked'].value_counts()"
   ]
  },
  {
   "cell_type": "code",
   "execution_count": 8,
   "metadata": {
    "execution": {
     "iopub.execute_input": "2021-10-21T04:30:49.955888Z",
     "iopub.status.busy": "2021-10-21T04:30:49.955612Z",
     "iopub.status.idle": "2021-10-21T04:30:49.961843Z",
     "shell.execute_reply": "2021-10-21T04:30:49.961335Z",
     "shell.execute_reply.started": "2021-10-21T04:30:49.955857Z"
    }
   },
   "outputs": [],
   "source": [
    "def cleanData(data):\n",
    "\n",
    "    #Missing valuse case2\n",
    "    data['Age'] = data.groupby(['Pclass','Sex'])['Age'].transform(lambda x: x.fillna(x.median()))\n",
    "    \n",
    "    \n",
    "    data['Fare'] = data.groupby(['Pclass','Sex'])['Fare'].transform(lambda x: x.fillna(x.median()))\n",
    "\n",
    "    # Data missing Case3\n",
    "    data.dropna(axis=0, subset=['Embarked'], inplace=True)\n",
    "    \n",
    "    #라벨 인코딩\n",
    "    le = preprocessing.LabelEncoder()\n",
    "    \n",
    "    #성별\n",
    "    data['Sex'].replace({'male':0, 'female':1}, inplace=True)\n",
    "    \n",
    "    #Embarked\n",
    "    data['Embarked'].replace({'S':0, 'C':1, 'Q':2}, inplace=True)\n",
    "    \n",
    "    return data"
   ]
  },
  {
   "cell_type": "code",
   "execution_count": 9,
   "metadata": {
    "execution": {
     "iopub.execute_input": "2021-10-21T04:30:58.762359Z",
     "iopub.status.busy": "2021-10-21T04:30:58.761967Z",
     "iopub.status.idle": "2021-10-21T04:30:58.783441Z",
     "shell.execute_reply": "2021-10-21T04:30:58.782932Z",
     "shell.execute_reply.started": "2021-10-21T04:30:58.762332Z"
    }
   },
   "outputs": [],
   "source": [
    "clean_train = cleanData(train)\n",
    "clean_test = cleanData(test)"
   ]
  },
  {
   "cell_type": "markdown",
   "metadata": {},
   "source": [
    "#### Check cleaning\n",
    "\n",
    "데이터 전처리 확인"
   ]
  },
  {
   "cell_type": "code",
   "execution_count": 10,
   "metadata": {
    "execution": {
     "iopub.execute_input": "2021-10-21T04:28:34.928261Z",
     "iopub.status.busy": "2021-10-21T04:28:34.927831Z",
     "iopub.status.idle": "2021-10-21T04:28:34.945497Z",
     "shell.execute_reply": "2021-10-21T04:28:34.944716Z",
     "shell.execute_reply.started": "2021-10-21T04:28:34.928233Z"
    }
   },
   "outputs": [
    {
     "name": "stdout",
     "output_type": "stream",
     "text": [
      "<class 'pandas.core.frame.DataFrame'>\n",
      "Int64Index: 889 entries, 0 to 890\n",
      "Data columns (total 12 columns):\n",
      " #   Column       Non-Null Count  Dtype  \n",
      "---  ------       --------------  -----  \n",
      " 0   PassengerId  889 non-null    int64  \n",
      " 1   Survived     889 non-null    int64  \n",
      " 2   Pclass       889 non-null    int64  \n",
      " 3   Name         889 non-null    object \n",
      " 4   Sex          889 non-null    int64  \n",
      " 5   Age          889 non-null    float64\n",
      " 6   SibSp        889 non-null    int64  \n",
      " 7   Parch        889 non-null    int64  \n",
      " 8   Ticket       889 non-null    object \n",
      " 9   Fare         889 non-null    float64\n",
      " 10  Cabin        202 non-null    object \n",
      " 11  Embarked     889 non-null    int64  \n",
      "dtypes: float64(2), int64(7), object(3)\n",
      "memory usage: 90.3+ KB\n",
      "<class 'pandas.core.frame.DataFrame'>\n",
      "Int64Index: 418 entries, 0 to 417\n",
      "Data columns (total 11 columns):\n",
      " #   Column       Non-Null Count  Dtype  \n",
      "---  ------       --------------  -----  \n",
      " 0   PassengerId  418 non-null    int64  \n",
      " 1   Pclass       418 non-null    int64  \n",
      " 2   Name         418 non-null    object \n",
      " 3   Sex          418 non-null    int64  \n",
      " 4   Age          418 non-null    float64\n",
      " 5   SibSp        418 non-null    int64  \n",
      " 6   Parch        418 non-null    int64  \n",
      " 7   Ticket       418 non-null    object \n",
      " 8   Fare         418 non-null    float64\n",
      " 9   Cabin        91 non-null     object \n",
      " 10  Embarked     418 non-null    int64  \n",
      "dtypes: float64(2), int64(6), object(3)\n",
      "memory usage: 39.2+ KB\n"
     ]
    }
   ],
   "source": [
    "clean_train.info()\n",
    "clean_test.info()"
   ]
  },
  {
   "cell_type": "markdown",
   "metadata": {},
   "source": [
    "#### Modeling\n",
    "\n"
   ]
  },
  {
   "cell_type": "code",
   "execution_count": 11,
   "metadata": {
    "execution": {
     "iopub.execute_input": "2021-10-21T04:28:34.949105Z",
     "iopub.status.busy": "2021-10-21T04:28:34.946564Z",
     "iopub.status.idle": "2021-10-21T04:28:34.960098Z",
     "shell.execute_reply": "2021-10-21T04:28:34.959393Z",
     "shell.execute_reply.started": "2021-10-21T04:28:34.949057Z"
    }
   },
   "outputs": [],
   "source": [
    "# Set X and y\n",
    "y = train['Survived']\n",
    "X = pd.get_dummies(train.drop('Survived', axis=1))\n",
    "\n",
    "# Split model train test data\n",
    "X_train, X_val, y_train, y_val = train_test_split(X,y, test_size=0.2, random_state=42)\n"
   ]
  },
  {
   "cell_type": "code",
   "execution_count": 12,
   "metadata": {
    "execution": {
     "iopub.execute_input": "2021-10-21T04:28:34.962361Z",
     "iopub.status.busy": "2021-10-21T04:28:34.961597Z",
     "iopub.status.idle": "2021-10-21T04:28:34.967090Z",
     "shell.execute_reply": "2021-10-21T04:28:34.966271Z",
     "shell.execute_reply.started": "2021-10-21T04:28:34.962323Z"
    }
   },
   "outputs": [],
   "source": [
    "def fitAndPredict(model):\n",
    "    #적합성 및 정확도 프로세스 자동화\n",
    "    \n",
    "    model.fit(X_train, y_train)\n",
    "    prediction = model.predict(X_val)\n",
    "    return accuracy_score(y_val, prediction)"
   ]
  },
  {
   "cell_type": "code",
   "execution_count": 13,
   "metadata": {
    "execution": {
     "iopub.execute_input": "2021-10-21T04:31:25.067134Z",
     "iopub.status.busy": "2021-10-21T04:31:25.066732Z",
     "iopub.status.idle": "2021-10-21T04:31:25.415926Z",
     "shell.execute_reply": "2021-10-21T04:31:25.415159Z",
     "shell.execute_reply.started": "2021-10-21T04:31:25.067102Z"
    }
   },
   "outputs": [
    {
     "name": "stdout",
     "output_type": "stream",
     "text": [
      "Model  1 : LogisticRegression(random_state=42, solver='liblinear')\n",
      "ACC:  0.8089887640449438\n",
      "Model  2 : GradientBoostingClassifier()\n",
      "ACC:  0.8089887640449438\n",
      "Model  3 : RandomForestClassifier()\n",
      "ACC:  0.8089887640449438\n",
      "Model  4 : SGDClassifier()\n",
      "ACC:  0.398876404494382\n",
      "Model  5 : SVC()\n",
      "ACC:  0.6348314606741573\n"
     ]
    }
   ],
   "source": [
    "#여러모델 비교\n",
    "model1 = LogisticRegression(solver='liblinear', random_state=42)\n",
    "model2 = GradientBoostingClassifier()\n",
    "model3 = RandomForestClassifier()\n",
    "model4 = SGDClassifier()\n",
    "model5 = SVC()\n",
    "\n",
    "models = [model1, model2, model3, model4, model5]\n",
    "i = 0\n",
    "for model in models:\n",
    "    i +=1\n",
    "    print(\"Model \", i,\":\", model)\n",
    "    print(\"ACC: \", fitAndPredict(model))"
   ]
  },
  {
   "cell_type": "code",
   "execution_count": 14,
   "metadata": {
    "execution": {
     "iopub.execute_input": "2021-10-21T04:28:35.333259Z",
     "iopub.status.busy": "2021-10-21T04:28:35.333027Z",
     "iopub.status.idle": "2021-10-21T04:28:35.441296Z",
     "shell.execute_reply": "2021-10-21T04:28:35.440506Z",
     "shell.execute_reply.started": "2021-10-21T04:28:35.333232Z"
    }
   },
   "outputs": [
    {
     "data": {
      "text/plain": [
       "0.6123595505617978"
      ]
     },
     "execution_count": 14,
     "metadata": {},
     "output_type": "execute_result"
    }
   ],
   "source": [
    "#가장 성능이 좋았던 GradientBoost 모델 매개변수 조절\n",
    "model = GradientBoostingClassifier(min_samples_split=20, min_samples_leaf=60, max_depth=3, max_features=7)\n",
    "fitAndPredict(model)"
   ]
  },
  {
   "cell_type": "code",
   "execution_count": null,
   "metadata": {},
   "outputs": [],
   "source": []
  }
 ],
 "metadata": {
  "kernelspec": {
   "display_name": "Python 3",
   "language": "python",
   "name": "python3"
  },
  "language_info": {
   "codemirror_mode": {
    "name": "ipython",
    "version": 3
   },
   "file_extension": ".py",
   "mimetype": "text/x-python",
   "name": "python",
   "nbconvert_exporter": "python",
   "pygments_lexer": "ipython3",
   "version": "3.8.8"
  }
 },
 "nbformat": 4,
 "nbformat_minor": 4
}
