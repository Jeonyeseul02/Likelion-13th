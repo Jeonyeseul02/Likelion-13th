{
 "cells": [
  {
   "cell_type": "code",
   "execution_count": 1,
   "id": "281ed968",
   "metadata": {},
   "outputs": [],
   "source": [
    "import mglearn"
   ]
  },
  {
   "cell_type": "code",
   "execution_count": 12,
   "id": "da44525a",
   "metadata": {},
   "outputs": [],
   "source": [
    "from sklearn.datasets import load_boston\n",
    "from sklearn.model_selection import train_test_split\n",
    "from sklearn.preprocessing import MinMaxScaler, PolynomialFeatures\n",
    "from sklearn.linear_model import Lasso, Ridge\n",
    "import pandas as pd\n",
    "import numpy as np"
   ]
  },
  {
   "cell_type": "code",
   "execution_count": 13,
   "id": "91d3465b",
   "metadata": {},
   "outputs": [],
   "source": [
    "### 한글 폰트 설정\n",
    "import matplotlib\n",
    "from matplotlib import font_manager, rc\n",
    "import matplotlib.pyplot as plt\n",
    "import platform\n",
    "\n",
    "path = \"C:/Windows/Fonts/malgun.ttf\"\n",
    "if platform.system() == \"Windows\":\n",
    "    font_name = font_manager.FontProperties(fname=path).get_name()\n",
    "    rc('font', family=font_name)\n",
    "elif platform.system()==\"Darwin\":\n",
    "    rc('font', family='AppleGothic')\n",
    "else:\n",
    "    print(\"Unknown System\")\n",
    "    \n",
    "matplotlib.rcParams['axes.unicode_minus'] = False\n",
    "\n",
    "%matplotlib inline"
   ]
  },
  {
   "cell_type": "code",
   "execution_count": 14,
   "id": "6cdb9f3f",
   "metadata": {},
   "outputs": [
    {
     "name": "stdout",
     "output_type": "stream",
     "text": [
      "<class 'numpy.ndarray'> <class 'numpy.ndarray'>\n"
     ]
    },
    {
     "data": {
      "text/html": [
       "<div>\n",
       "<style scoped>\n",
       "    .dataframe tbody tr th:only-of-type {\n",
       "        vertical-align: middle;\n",
       "    }\n",
       "\n",
       "    .dataframe tbody tr th {\n",
       "        vertical-align: top;\n",
       "    }\n",
       "\n",
       "    .dataframe thead th {\n",
       "        text-align: right;\n",
       "    }\n",
       "</style>\n",
       "<table border=\"1\" class=\"dataframe\">\n",
       "  <thead>\n",
       "    <tr style=\"text-align: right;\">\n",
       "      <th></th>\n",
       "      <th>CRIM</th>\n",
       "      <th>ZN</th>\n",
       "      <th>INDUS</th>\n",
       "      <th>CHAS</th>\n",
       "      <th>NOX</th>\n",
       "      <th>RM</th>\n",
       "      <th>AGE</th>\n",
       "      <th>DIS</th>\n",
       "      <th>RAD</th>\n",
       "      <th>TAX</th>\n",
       "      <th>PTRATIO</th>\n",
       "      <th>B</th>\n",
       "      <th>LSTAT</th>\n",
       "      <th>price</th>\n",
       "    </tr>\n",
       "  </thead>\n",
       "  <tbody>\n",
       "    <tr>\n",
       "      <th>0</th>\n",
       "      <td>0.00632</td>\n",
       "      <td>18.0</td>\n",
       "      <td>2.31</td>\n",
       "      <td>0.0</td>\n",
       "      <td>0.538</td>\n",
       "      <td>6.575</td>\n",
       "      <td>65.2</td>\n",
       "      <td>4.0900</td>\n",
       "      <td>1.0</td>\n",
       "      <td>296.0</td>\n",
       "      <td>15.3</td>\n",
       "      <td>396.90</td>\n",
       "      <td>4.98</td>\n",
       "      <td>24.0</td>\n",
       "    </tr>\n",
       "    <tr>\n",
       "      <th>1</th>\n",
       "      <td>0.02731</td>\n",
       "      <td>0.0</td>\n",
       "      <td>7.07</td>\n",
       "      <td>0.0</td>\n",
       "      <td>0.469</td>\n",
       "      <td>6.421</td>\n",
       "      <td>78.9</td>\n",
       "      <td>4.9671</td>\n",
       "      <td>2.0</td>\n",
       "      <td>242.0</td>\n",
       "      <td>17.8</td>\n",
       "      <td>396.90</td>\n",
       "      <td>9.14</td>\n",
       "      <td>21.6</td>\n",
       "    </tr>\n",
       "    <tr>\n",
       "      <th>2</th>\n",
       "      <td>0.02729</td>\n",
       "      <td>0.0</td>\n",
       "      <td>7.07</td>\n",
       "      <td>0.0</td>\n",
       "      <td>0.469</td>\n",
       "      <td>7.185</td>\n",
       "      <td>61.1</td>\n",
       "      <td>4.9671</td>\n",
       "      <td>2.0</td>\n",
       "      <td>242.0</td>\n",
       "      <td>17.8</td>\n",
       "      <td>392.83</td>\n",
       "      <td>4.03</td>\n",
       "      <td>34.7</td>\n",
       "    </tr>\n",
       "    <tr>\n",
       "      <th>3</th>\n",
       "      <td>0.03237</td>\n",
       "      <td>0.0</td>\n",
       "      <td>2.18</td>\n",
       "      <td>0.0</td>\n",
       "      <td>0.458</td>\n",
       "      <td>6.998</td>\n",
       "      <td>45.8</td>\n",
       "      <td>6.0622</td>\n",
       "      <td>3.0</td>\n",
       "      <td>222.0</td>\n",
       "      <td>18.7</td>\n",
       "      <td>394.63</td>\n",
       "      <td>2.94</td>\n",
       "      <td>33.4</td>\n",
       "    </tr>\n",
       "    <tr>\n",
       "      <th>4</th>\n",
       "      <td>0.06905</td>\n",
       "      <td>0.0</td>\n",
       "      <td>2.18</td>\n",
       "      <td>0.0</td>\n",
       "      <td>0.458</td>\n",
       "      <td>7.147</td>\n",
       "      <td>54.2</td>\n",
       "      <td>6.0622</td>\n",
       "      <td>3.0</td>\n",
       "      <td>222.0</td>\n",
       "      <td>18.7</td>\n",
       "      <td>396.90</td>\n",
       "      <td>5.33</td>\n",
       "      <td>36.2</td>\n",
       "    </tr>\n",
       "  </tbody>\n",
       "</table>\n",
       "</div>"
      ],
      "text/plain": [
       "      CRIM    ZN  INDUS  CHAS    NOX     RM   AGE     DIS  RAD    TAX  \\\n",
       "0  0.00632  18.0   2.31   0.0  0.538  6.575  65.2  4.0900  1.0  296.0   \n",
       "1  0.02731   0.0   7.07   0.0  0.469  6.421  78.9  4.9671  2.0  242.0   \n",
       "2  0.02729   0.0   7.07   0.0  0.469  7.185  61.1  4.9671  2.0  242.0   \n",
       "3  0.03237   0.0   2.18   0.0  0.458  6.998  45.8  6.0622  3.0  222.0   \n",
       "4  0.06905   0.0   2.18   0.0  0.458  7.147  54.2  6.0622  3.0  222.0   \n",
       "\n",
       "   PTRATIO       B  LSTAT  price  \n",
       "0     15.3  396.90   4.98   24.0  \n",
       "1     17.8  396.90   9.14   21.6  \n",
       "2     17.8  392.83   4.03   34.7  \n",
       "3     18.7  394.63   2.94   33.4  \n",
       "4     18.7  396.90   5.33   36.2  "
      ]
     },
     "execution_count": 14,
     "metadata": {},
     "output_type": "execute_result"
    }
   ],
   "source": [
    "boston = load_boston()\n",
    "print(type(boston.data), type(boston.target))\n",
    "\n",
    "df_boston = pd.DataFrame(boston.data,columns=boston.feature_names)\n",
    "df_boston['price'] = pd.Series(boston.target)\n",
    "df_boston.head()"
   ]
  },
  {
   "cell_type": "code",
   "execution_count": 15,
   "id": "39615f26",
   "metadata": {},
   "outputs": [
    {
     "data": {
      "text/plain": [
       "Index(['CRIM', 'ZN', 'INDUS', 'CHAS', 'NOX', 'RM', 'AGE', 'DIS', 'RAD', 'TAX',\n",
       "       'PTRATIO', 'B', 'LSTAT', 'price'],\n",
       "      dtype='object')"
      ]
     },
     "execution_count": 15,
     "metadata": {},
     "output_type": "execute_result"
    }
   ],
   "source": [
    "df_boston.columns"
   ]
  },
  {
   "cell_type": "code",
   "execution_count": 16,
   "id": "62499577",
   "metadata": {},
   "outputs": [
    {
     "name": "stdout",
     "output_type": "stream",
     "text": [
      "(506, 13) (506,)\n",
      "0.00632 88.9762\n",
      "0.385 0.871\n",
      "0.46 27.74\n"
     ]
    }
   ],
   "source": [
    "## 입력과 출력 - X, y\n",
    "X = df_boston.loc[:,'CRIM':'LSTAT']\n",
    "y = df_boston['price']\n",
    "\n",
    "print(X.shape, y.shape)\n",
    "print(df_boston['CRIM'].min(), df_boston['CRIM'].max())\n",
    "print(df_boston['NOX'].min(), df_boston['NOX'].max())\n",
    "print(df_boston['INDUS'].min(), df_boston['INDUS'].max())"
   ]
  },
  {
   "cell_type": "code",
   "execution_count": 17,
   "id": "225e5218",
   "metadata": {},
   "outputs": [
    {
     "name": "stdout",
     "output_type": "stream",
     "text": [
      "<class 'numpy.ndarray'>\n",
      "0.0 0.9999999999999999\n",
      "0.0 0.9999999999999999\n"
     ]
    }
   ],
   "source": [
    "### 데이터 정규화 - 데이터의 값의 범위 0~... -> 0~1\n",
    "nor_X = MinMaxScaler().fit_transform(X)\n",
    "\n",
    "print(type(nor_X))\n",
    "print( np.min(nor_X[0]), np.max(nor_X[0]))\n",
    "print( np.min(nor_X[1]), np.max(nor_X[1]))"
   ]
  },
  {
   "cell_type": "code",
   "execution_count": 20,
   "id": "4fce0622",
   "metadata": {},
   "outputs": [
    {
     "name": "stdout",
     "output_type": "stream",
     "text": [
      "(506, 13) (506,)\n",
      "(506, 104) (506,)\n"
     ]
    }
   ],
   "source": [
    "print(X.shape, y.shape)\n",
    "\n",
    "ex_X = PolynomialFeatures(degree=2, include_bias=False).fit_transform(nor_X)\n",
    "\n",
    "print(ex_X.shape, y.shape)"
   ]
  },
  {
   "cell_type": "code",
   "execution_count": 25,
   "id": "df166027",
   "metadata": {},
   "outputs": [],
   "source": [
    "from sklearn.linear_model import LinearRegression"
   ]
  },
  {
   "cell_type": "code",
   "execution_count": 26,
   "id": "bf5e7a3e",
   "metadata": {},
   "outputs": [
    {
     "name": "stdout",
     "output_type": "stream",
     "text": [
      "0.9448313975211593 0.7758378393351677\n"
     ]
    }
   ],
   "source": [
    "X_train, X_test, y_train, y_test = train_test_split(ex_X,y, random_state=42)\n",
    "\n",
    "ex_model = LinearRegression().fit(X_train, y_train)\n",
    "\n",
    "print(ex_model.score(X_train, y_train), ex_model.score(X_test, y_test))"
   ]
  },
  {
   "cell_type": "code",
   "execution_count": 27,
   "id": "68cef869",
   "metadata": {},
   "outputs": [],
   "source": [
    "from sklearn.linear_model import Lasso"
   ]
  },
  {
   "cell_type": "code",
   "execution_count": 28,
   "id": "8d30d10c",
   "metadata": {},
   "outputs": [
    {
     "name": "stdout",
     "output_type": "stream",
     "text": [
      "0.886503377794609 0.80359225764207\n"
     ]
    },
    {
     "name": "stderr",
     "output_type": "stream",
     "text": [
      "C:\\Users\\hingu\\anaconda3\\lib\\site-packages\\sklearn\\linear_model\\_coordinate_descent.py:530: ConvergenceWarning: Objective did not converge. You might want to increase the number of iterations. Duality gap: 6.848133364156638, tolerance: 3.361037625329815\n",
      "  model = cd_fast.enet_coordinate_descent(\n"
     ]
    }
   ],
   "source": [
    "lasso_m = Lasso(alpha = 0.01).fit(X_train, y_train)\n",
    "print(lasso_m.score(X_train, y_train), lasso_m.score(X_test, y_test))"
   ]
  },
  {
   "cell_type": "code",
   "execution_count": 42,
   "id": "2b8d4f4c",
   "metadata": {},
   "outputs": [],
   "source": [
    "from sklearn.linear_model import Ridge"
   ]
  },
  {
   "cell_type": "code",
   "execution_count": 31,
   "id": "d9d056bf",
   "metadata": {},
   "outputs": [
    {
     "name": "stdout",
     "output_type": "stream",
     "text": [
      "0.9357645261988805 0.8144760713008701\n"
     ]
    }
   ],
   "source": [
    "ridge_m = Ridge(alpha = 0.01).fit(X_train, y_train)\n",
    "print(ridge_m.score(X_train, y_train), ridge_m.score(X_test, y_test))"
   ]
  },
  {
   "cell_type": "code",
   "execution_count": 35,
   "id": "43012006",
   "metadata": {},
   "outputs": [
    {
     "name": "stdout",
     "output_type": "stream",
     "text": [
      "학습용 데이터 세트 점수 : 0.27\n",
      "테스트 데이터 세트 점수 : 0.26\n",
      "사용한 특성의 수 :  3\n"
     ]
    }
   ],
   "source": [
    "lasso = Lasso(alpha=1).fit(X_train, y_train)\n",
    "print(\"학습용 데이터 세트 점수 : {:.2f}\".format(lasso.score(X_train, y_train)))\n",
    "print(\"테스트 데이터 세트 점수 : {:.2f}\".format(lasso.score(X_test, y_test)))\n",
    "print(\"사용한 특성의 수 : \", np.sum(lasso.coef_ != 0))"
   ]
  },
  {
   "cell_type": "code",
   "execution_count": 34,
   "id": "ffef8444",
   "metadata": {},
   "outputs": [
    {
     "name": "stdout",
     "output_type": "stream",
     "text": [
      "학습용 데이터 점수 : 0.94\n",
      "테스트 데이터 점수 : 0.78\n",
      "사용한 특성의 수 :  102\n"
     ]
    },
    {
     "name": "stderr",
     "output_type": "stream",
     "text": [
      "C:\\Users\\hingu\\anaconda3\\lib\\site-packages\\sklearn\\linear_model\\_coordinate_descent.py:530: ConvergenceWarning: Objective did not converge. You might want to increase the number of iterations. Duality gap: 1061.5581359471423, tolerance: 3.361037625329815\n",
      "  model = cd_fast.enet_coordinate_descent(\n"
     ]
    }
   ],
   "source": [
    "lasso00001 = Lasso(alpha=0.0001).fit(X_train, y_train)\n",
    "print(\"학습용 데이터 점수 : {:.2f}\".format(lasso00001.score(X_train, y_train)))\n",
    "print(\"테스트 데이터 점수 : {:.2f}\".format(lasso00001.score(X_test, y_test)))\n",
    "print(\"사용한 특성의 수 : \", np.sum(lasso00001.coef_ != 0))"
   ]
  },
  {
   "cell_type": "code",
   "execution_count": 36,
   "id": "8f152c1c",
   "metadata": {},
   "outputs": [
    {
     "name": "stdout",
     "output_type": "stream",
     "text": [
      "학습용 데이터 세트 점수 :  0.8864717420585478\n",
      "테스트 데이터 세트 점수 :  0.8036004116583615\n",
      "사용한 특성의 수 :  34\n"
     ]
    }
   ],
   "source": [
    "lasso001 = Lasso(alpha=0.01, max_iter=100000).fit(X_train, y_train)\n",
    "print(\"학습용 데이터 세트 점수 : \",lasso001.score(X_train, y_train))\n",
    "print(\"테스트 데이터 세트 점수 : \",lasso001.score(X_test, y_test))\n",
    "print(\"사용한 특성의 수 : \", np.sum(lasso001.coef_ != 0))"
   ]
  },
  {
   "cell_type": "code",
   "execution_count": 37,
   "id": "b1712323",
   "metadata": {},
   "outputs": [
    {
     "name": "stdout",
     "output_type": "stream",
     "text": [
      "학습용 데이터 세트 점수 :  0.7471467575228325\n",
      "테스트 데이터 세트 점수 :  0.6986891802234086\n",
      "사용한 특성의 수 :  12\n"
     ]
    }
   ],
   "source": [
    "lasso01 = Lasso(alpha=0.1, max_iter=100000).fit(X_train, y_train)\n",
    "print(\"학습용 데이터 세트 점수 : \",lasso01.score(X_train, y_train))\n",
    "print(\"테스트 데이터 세트 점수 : \",lasso01.score(X_test, y_test))\n",
    "print(\"사용한 특성의 수 : \", np.sum(lasso01.coef_ != 0))"
   ]
  },
  {
   "cell_type": "code",
   "execution_count": 38,
   "id": "fcc11ea2",
   "metadata": {},
   "outputs": [
    {
     "name": "stdout",
     "output_type": "stream",
     "text": [
      "학습용 데이터 세트 점수 :  0.0\n",
      "테스트 데이터 세트 점수 :  -0.03189647654769301\n",
      "사용한 특성의 수 :  0\n"
     ]
    }
   ],
   "source": [
    "lasso10 = Lasso(alpha=10, max_iter=100000).fit(X_train, y_train)\n",
    "print(\"학습용 데이터 세트 점수 : \",lasso10.score(X_train, y_train))\n",
    "print(\"테스트 데이터 세트 점수 : \",lasso10.score(X_test, y_test))\n",
    "print(\"사용한 특성의 수 : \", np.sum(lasso10.coef_ != 0))"
   ]
  },
  {
   "cell_type": "code",
   "execution_count": 40,
   "id": "2a0e9ace",
   "metadata": {},
   "outputs": [
    {
     "data": {
      "image/png": "[encoded data removed]",
      "text/plain": [
       "<Figure size 720x432 with 1 Axes>"
      ]
     },
     "metadata": {
      "needs_background": "light"
     },
     "output_type": "display_data"
    }
   ],
   "source": [
    "lasso = Lasso(alpha=1).fit(X_train, y_train)\n",
    "\n",
    "plt.figure(figsize=(10,6))\n",
    "#plt.plot(lasso00001.coef_, \"r^\", label=\"Lasso alpha=0.0001\")\n",
    "plt.plot(lasso001.coef_, 'go', label=\"Lasso alpha=0.01\")\n",
    "plt.plot(lasso01.coef_, 'yv', label=\"Lasso alpha=0.1\")\n",
    "plt.plot(lasso.coef_, 'rv', label=\"Lasso alpha=1\")\n",
    "plt.plot(lasso10.coef_, \"bs\", label=\"Lasso alpha=10\")\n",
    "\n",
    "plt.xlabel(\"계수 목록\")\n",
    "plt.ylabel(\"계수 크기\")\n",
    "plt.ylim(-25, 25)\n",
    "plt.legend(ncol=2, loc=(0,1.05))\n",
    "plt.show()"
   ]
  },
  {
   "cell_type": "code",
   "execution_count": 44,
   "id": "25a76093",
   "metadata": {},
   "outputs": [
    {
     "name": "stdout",
     "output_type": "stream",
     "text": [
      "학습용 데이터 점수 : 0.94\n",
      "테스트 데이터 점수 : 0.79\n",
      "사용한 특성의 수 :  104\n"
     ]
    }
   ],
   "source": [
    "ridge00001 = Ridge(alpha=0.0001).fit(X_train, y_train)\n",
    "print(\"학습용 데이터 점수 : {:.2f}\".format(ridge00001.score(X_train, y_train)))\n",
    "print(\"테스트 데이터 점수 : {:.2f}\".format(ridge00001.score(X_test, y_test)))\n",
    "print(\"사용한 특성의 수 : \", np.sum(ridge00001.coef_ != 0))"
   ]
  },
  {
   "cell_type": "code",
   "execution_count": 45,
   "id": "b0d2b050",
   "metadata": {},
   "outputs": [
    {
     "name": "stdout",
     "output_type": "stream",
     "text": [
      "학습용 데이터 점수 : 0.94\n",
      "테스트 데이터 점수 : 0.81\n",
      "사용한 특성의 수 :  104\n"
     ]
    }
   ],
   "source": [
    "ridge0001 = Ridge(alpha=0.001).fit(X_train, y_train)\n",
    "print(\"학습용 데이터 점수 : {:.2f}\".format(ridge0001.score(X_train, y_train)))\n",
    "print(\"테스트 데이터 점수 : {:.2f}\".format(ridge0001.score(X_test, y_test)))\n",
    "print(\"사용한 특성의 수 : \", np.sum(ridge0001.coef_ != 0))"
   ]
  },
  {
   "cell_type": "code",
   "execution_count": 46,
   "id": "e9778bcd",
   "metadata": {},
   "outputs": [
    {
     "name": "stdout",
     "output_type": "stream",
     "text": [
      "학습용 데이터 점수 : 0.94\n",
      "테스트 데이터 점수 : 0.81\n",
      "사용한 특성의 수 :  104\n"
     ]
    }
   ],
   "source": [
    "ridge001 = Ridge(alpha=0.01).fit(X_train, y_train)\n",
    "print(\"학습용 데이터 점수 : {:.2f}\".format(ridge001.score(X_train, y_train)))\n",
    "print(\"테스트 데이터 점수 : {:.2f}\".format(ridge001.score(X_test, y_test)))\n",
    "print(\"사용한 특성의 수 : \", np.sum(ridge001.coef_ != 0))"
   ]
  },
  {
   "cell_type": "code",
   "execution_count": 47,
   "id": "0d65c8c8",
   "metadata": {},
   "outputs": [
    {
     "name": "stdout",
     "output_type": "stream",
     "text": [
      "학습용 데이터 점수 : 0.92\n",
      "테스트 데이터 점수 : 0.82\n",
      "사용한 특성의 수 :  104\n"
     ]
    }
   ],
   "source": [
    "ridge01 = Ridge(alpha=0.1).fit(X_train, y_train)\n",
    "print(\"학습용 데이터 점수 : {:.2f}\".format(ridge01.score(X_train, y_train)))\n",
    "print(\"테스트 데이터 점수 : {:.2f}\".format(ridge01.score(X_test, y_test)))\n",
    "print(\"사용한 특성의 수 : \", np.sum(ridge01.coef_ != 0))"
   ]
  },
  {
   "cell_type": "code",
   "execution_count": 48,
   "id": "8bc0c31a",
   "metadata": {},
   "outputs": [
    {
     "name": "stdout",
     "output_type": "stream",
     "text": [
      "학습용 데이터 점수 : 0.87\n",
      "테스트 데이터 점수 : 0.81\n",
      "사용한 특성의 수 :  104\n"
     ]
    }
   ],
   "source": [
    "ridge1 = Ridge(alpha=1).fit(X_train, y_train)\n",
    "print(\"학습용 데이터 점수 : {:.2f}\".format(ridge1.score(X_train, y_train)))\n",
    "print(\"테스트 데이터 점수 : {:.2f}\".format(ridge1.score(X_test, y_test)))\n",
    "print(\"사용한 특성의 수 : \", np.sum(ridge1.coef_ != 0))"
   ]
  },
  {
   "cell_type": "code",
   "execution_count": 49,
   "id": "c55000fc",
   "metadata": {},
   "outputs": [
    {
     "name": "stdout",
     "output_type": "stream",
     "text": [
      "학습용 데이터 점수 : 0.77\n",
      "테스트 데이터 점수 : 0.73\n",
      "사용한 특성의 수 :  104\n"
     ]
    }
   ],
   "source": [
    "ridge10 = Ridge(alpha=10).fit(X_train, y_train)\n",
    "print(\"학습용 데이터 점수 : {:.2f}\".format(ridge10.score(X_train, y_train)))\n",
    "print(\"테스트 데이터 점수 : {:.2f}\".format(ridge10.score(X_test, y_test)))\n",
    "print(\"사용한 특성의 수 : \", np.sum(ridge10.coef_ != 0))"
   ]
  },
  {
   "cell_type": "code",
   "execution_count": 58,
   "id": "1c2c7c2d",
   "metadata": {},
   "outputs": [
    {
     "data": {
      "image/png": "[encoded data removed]",
      "text/plain": [
       "<Figure size 720x432 with 1 Axes>"
      ]
     },
     "metadata": {
      "needs_background": "light"
     },
     "output_type": "display_data"
    }
   ],
   "source": [
    "plt.figure(figsize=(10,6))\n",
    "#plt.plot(ridge00001.coef_, \"r^\", label=\"ridge alpha=0.0001\")\n",
    "#plt.plot(ridge0001.coef_, \"g^\", label=\"ridge alpha=0.001\")\n",
    "plt.plot(ridge001.coef_, \"b^\", label=\"ridge alpha=0.01\")\n",
    "plt.plot(ridge01.coef_, 'yo', label=\"ridge alpha=0.1\")\n",
    "plt.plot(ridge1.coef_, 'rv', label=\"ridge alpha=1\")\n",
    "plt.plot(ridge10.coef_, \"gs\", label=\"ridge alpha=10\")\n",
    "\n",
    "plt.xlabel(\"계수 목록\")\n",
    "plt.ylabel(\"계수 크기\")\n",
    "# plt.ylim(-25, 25)\n",
    "plt.legend(ncol=2, loc=(0,1.05))\n",
    "plt.show()"
   ]
  },
  {
   "cell_type": "code",
   "execution_count": null,
   "id": "882adbf5",
   "metadata": {},
   "outputs": [],
   "source": []
  }
 ],
 "metadata": {
  "kernelspec": {
   "display_name": "Python 3",
   "language": "python",
   "name": "python3"
  },
  "language_info": {
   "codemirror_mode": {
    "name": "ipython",
    "version": 3
   },
   "file_extension": ".py",
   "mimetype": "text/x-python",
   "name": "python",
   "nbconvert_exporter": "python",
   "pygments_lexer": "ipython3",
   "version": "3.8.8"
  }
 },
 "nbformat": 4,
 "nbformat_minor": 5
}
